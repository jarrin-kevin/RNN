{
  "nbformat": 4,
  "nbformat_minor": 0,
  "metadata": {
    "kernelspec": {
      "display_name": "Python 3",
      "name": "python3"
    },
    "language_info": {
      "codemirror_mode": {
        "name": "ipython",
        "version": 3
      },
      "file_extension": ".py",
      "mimetype": "text/x-python",
      "name": "python",
      "nbconvert_exporter": "python",
      "pygments_lexer": "ipython3",
      "version": "3.7.7"
    },
    "colab": {
      "provenance": [],
      "gpuType": "T4",
      "include_colab_link": true
    },
    "accelerator": "GPU"
  },
  "cells": [
    {
      "cell_type": "markdown",
      "metadata": {
        "id": "view-in-github",
        "colab_type": "text"
      },
      "source": [
        "<a href=\"https://colab.research.google.com/github/jarrin-kevin/nuevo/blob/master/Primera_red_neuronal_con_numpy.ipynb\" target=\"_parent\"><img src=\"https://colab.research.google.com/assets/colab-badge.svg\" alt=\"Open In Colab\"/></a>"
      ]
    },
    {
      "cell_type": "markdown",
      "source": [
        "# Redes neuronales recurrentes para procesamiento de lenguaje natural\n"
      ],
      "metadata": {
        "id": "REa8ScnR0NUe"
      }
    },
    {
      "cell_type": "markdown",
      "source": [
        "### Importar librerias necesarias"
      ],
      "metadata": {
        "id": "-ngQbRnG1MBN"
      }
    },
    {
      "cell_type": "code",
      "metadata": {
        "id": "LHrhVuTdlR-u"
      },
      "source": [
        "import tensorflow as tf\n",
        "from tensorflow import keras\n",
        "import numpy as np\n",
        "import os\n",
        "import time"
      ],
      "execution_count": 80,
      "outputs": []
    },
    {
      "cell_type": "markdown",
      "metadata": {
        "id": "7q-lYGf4lR-3"
      },
      "source": [
        "### Cargar el dataset"
      ]
    },
    {
      "cell_type": "code",
      "metadata": {
        "id": "OVMyM7XdlR-4",
        "outputId": "551c6359-eb15-4090-eb2f-fac5fd1e3a9e",
        "colab": {
          "base_uri": "https://localhost:8080/",
          "height": 1000
        }
      },
      "source": [
        "from google.colab import files\n",
        "files.upload()"
      ],
      "execution_count": 81,
      "outputs": [
        {
          "output_type": "display_data",
          "data": {
            "text/plain": [
              "<IPython.core.display.HTML object>"
            ],
            "text/html": [
              "\n",
              "     <input type=\"file\" id=\"files-7dfcdf64-f0ab-4b09-9d16-d09bd4e987f8\" name=\"files[]\" multiple disabled\n",
              "        style=\"border:none\" />\n",
              "     <output id=\"result-7dfcdf64-f0ab-4b09-9d16-d09bd4e987f8\">\n",
              "      Upload widget is only available when the cell has been executed in the\n",
              "      current browser session. Please rerun this cell to enable.\n",
              "      </output>\n",
              "      <script>// Copyright 2017 Google LLC\n",
              "//\n",
              "// Licensed under the Apache License, Version 2.0 (the \"License\");\n",
              "// you may not use this file except in compliance with the License.\n",
              "// You may obtain a copy of the License at\n",
              "//\n",
              "//      http://www.apache.org/licenses/LICENSE-2.0\n",
              "//\n",
              "// Unless required by applicable law or agreed to in writing, software\n",
              "// distributed under the License is distributed on an \"AS IS\" BASIS,\n",
              "// WITHOUT WARRANTIES OR CONDITIONS OF ANY KIND, either express or implied.\n",
              "// See the License for the specific language governing permissions and\n",
              "// limitations under the License.\n",
              "\n",
              "/**\n",
              " * @fileoverview Helpers for google.colab Python module.\n",
              " */\n",
              "(function(scope) {\n",
              "function span(text, styleAttributes = {}) {\n",
              "  const element = document.createElement('span');\n",
              "  element.textContent = text;\n",
              "  for (const key of Object.keys(styleAttributes)) {\n",
              "    element.style[key] = styleAttributes[key];\n",
              "  }\n",
              "  return element;\n",
              "}\n",
              "\n",
              "// Max number of bytes which will be uploaded at a time.\n",
              "const MAX_PAYLOAD_SIZE = 100 * 1024;\n",
              "\n",
              "function _uploadFiles(inputId, outputId) {\n",
              "  const steps = uploadFilesStep(inputId, outputId);\n",
              "  const outputElement = document.getElementById(outputId);\n",
              "  // Cache steps on the outputElement to make it available for the next call\n",
              "  // to uploadFilesContinue from Python.\n",
              "  outputElement.steps = steps;\n",
              "\n",
              "  return _uploadFilesContinue(outputId);\n",
              "}\n",
              "\n",
              "// This is roughly an async generator (not supported in the browser yet),\n",
              "// where there are multiple asynchronous steps and the Python side is going\n",
              "// to poll for completion of each step.\n",
              "// This uses a Promise to block the python side on completion of each step,\n",
              "// then passes the result of the previous step as the input to the next step.\n",
              "function _uploadFilesContinue(outputId) {\n",
              "  const outputElement = document.getElementById(outputId);\n",
              "  const steps = outputElement.steps;\n",
              "\n",
              "  const next = steps.next(outputElement.lastPromiseValue);\n",
              "  return Promise.resolve(next.value.promise).then((value) => {\n",
              "    // Cache the last promise value to make it available to the next\n",
              "    // step of the generator.\n",
              "    outputElement.lastPromiseValue = value;\n",
              "    return next.value.response;\n",
              "  });\n",
              "}\n",
              "\n",
              "/**\n",
              " * Generator function which is called between each async step of the upload\n",
              " * process.\n",
              " * @param {string} inputId Element ID of the input file picker element.\n",
              " * @param {string} outputId Element ID of the output display.\n",
              " * @return {!Iterable<!Object>} Iterable of next steps.\n",
              " */\n",
              "function* uploadFilesStep(inputId, outputId) {\n",
              "  const inputElement = document.getElementById(inputId);\n",
              "  inputElement.disabled = false;\n",
              "\n",
              "  const outputElement = document.getElementById(outputId);\n",
              "  outputElement.innerHTML = '';\n",
              "\n",
              "  const pickedPromise = new Promise((resolve) => {\n",
              "    inputElement.addEventListener('change', (e) => {\n",
              "      resolve(e.target.files);\n",
              "    });\n",
              "  });\n",
              "\n",
              "  const cancel = document.createElement('button');\n",
              "  inputElement.parentElement.appendChild(cancel);\n",
              "  cancel.textContent = 'Cancel upload';\n",
              "  const cancelPromise = new Promise((resolve) => {\n",
              "    cancel.onclick = () => {\n",
              "      resolve(null);\n",
              "    };\n",
              "  });\n",
              "\n",
              "  // Wait for the user to pick the files.\n",
              "  const files = yield {\n",
              "    promise: Promise.race([pickedPromise, cancelPromise]),\n",
              "    response: {\n",
              "      action: 'starting',\n",
              "    }\n",
              "  };\n",
              "\n",
              "  cancel.remove();\n",
              "\n",
              "  // Disable the input element since further picks are not allowed.\n",
              "  inputElement.disabled = true;\n",
              "\n",
              "  if (!files) {\n",
              "    return {\n",
              "      response: {\n",
              "        action: 'complete',\n",
              "      }\n",
              "    };\n",
              "  }\n",
              "\n",
              "  for (const file of files) {\n",
              "    const li = document.createElement('li');\n",
              "    li.append(span(file.name, {fontWeight: 'bold'}));\n",
              "    li.append(span(\n",
              "        `(${file.type || 'n/a'}) - ${file.size} bytes, ` +\n",
              "        `last modified: ${\n",
              "            file.lastModifiedDate ? file.lastModifiedDate.toLocaleDateString() :\n",
              "                                    'n/a'} - `));\n",
              "    const percent = span('0% done');\n",
              "    li.appendChild(percent);\n",
              "\n",
              "    outputElement.appendChild(li);\n",
              "\n",
              "    const fileDataPromise = new Promise((resolve) => {\n",
              "      const reader = new FileReader();\n",
              "      reader.onload = (e) => {\n",
              "        resolve(e.target.result);\n",
              "      };\n",
              "      reader.readAsArrayBuffer(file);\n",
              "    });\n",
              "    // Wait for the data to be ready.\n",
              "    let fileData = yield {\n",
              "      promise: fileDataPromise,\n",
              "      response: {\n",
              "        action: 'continue',\n",
              "      }\n",
              "    };\n",
              "\n",
              "    // Use a chunked sending to avoid message size limits. See b/62115660.\n",
              "    let position = 0;\n",
              "    do {\n",
              "      const length = Math.min(fileData.byteLength - position, MAX_PAYLOAD_SIZE);\n",
              "      const chunk = new Uint8Array(fileData, position, length);\n",
              "      position += length;\n",
              "\n",
              "      const base64 = btoa(String.fromCharCode.apply(null, chunk));\n",
              "      yield {\n",
              "        response: {\n",
              "          action: 'append',\n",
              "          file: file.name,\n",
              "          data: base64,\n",
              "        },\n",
              "      };\n",
              "\n",
              "      let percentDone = fileData.byteLength === 0 ?\n",
              "          100 :\n",
              "          Math.round((position / fileData.byteLength) * 100);\n",
              "      percent.textContent = `${percentDone}% done`;\n",
              "\n",
              "    } while (position < fileData.byteLength);\n",
              "  }\n",
              "\n",
              "  // All done.\n",
              "  yield {\n",
              "    response: {\n",
              "      action: 'complete',\n",
              "    }\n",
              "  };\n",
              "}\n",
              "\n",
              "scope.google = scope.google || {};\n",
              "scope.google.colab = scope.google.colab || {};\n",
              "scope.google.colab._files = {\n",
              "  _uploadFiles,\n",
              "  _uploadFilesContinue,\n",
              "};\n",
              "})(self);\n",
              "</script> "
            ]
          },
          "metadata": {}
        },
        {
          "output_type": "stream",
          "name": "stdout",
          "text": [
            "Saving fragmento-de-libro.txt to fragmento-de-libro (3).txt\n"
          ]
        },
        {
          "output_type": "execute_result",
          "data": {
            "text/plain": [
              "{'fragmento-de-libro (3).txt': b\"That, poor contempt, or claim'd thou slept so faithful,\\r\\nI may contrive our father; and, in their defeated queen,\\r\\nHer flesh broke me and puttance of expedition house,\\r\\nAnd in that same that ever I lament this stomach,\\r\\nAnd he, nor Butly and my fury, knowing everything\\r\\nGrew daily ever, his great strength and thought\\r\\nThe bright buds of mine own.\\r\\n\\r\\nBIONDELLO:\\r\\nMarry, that it may not pray their patience.'\\r\\n\\r\\nKING LEAR:\\r\\nThe instant common maid, as we may less be\\r\\na brave gentleman and joiner: he that finds us with wax\\r\\nAnd owe so full of presence and our fooder at our\\r\\nstaves. It is remorsed the bridal's man his grace\\r\\nfor every business in my tongue, but I was thinking\\r\\nthat he contends, he hath respected thee.\\r\\n\\r\\nBIRON:\\r\\nShe left thee on, I'll die to blessed and most reasonable\\r\\nNature in this honour, and her bosom is safe, some\\r\\nothers from his speedy-birth, a bill and as\\r\\nForestem with Richard in your heart\\r\\nBe question'd on, nor that I was enough:\\r\\nWhich of a partier forth the obsers d'punish'd the hate\\r\\nTo my restraints would not then be got as I partly.\\r\\n\\r\\nAUTOLYCUS:\\r\\nHath sat her love within this man, that was foul prayers\\r\\nWhich are much thus from them with thee; I am not ever thought\\r\\nTo make that with a wise exclaim, as I am sure;\\r\\nTo say well like a dotage on the fixed cease,\\r\\nAnd let mine eyes may straight sole sword conveyard,\\r\\nThat dust-confounded by a land to their command\\r\\nThen puissant with a grief's: it should be so and dead,\\r\\nTill he shall fail his sister; and in true and good,\\r\\nTo see me for the other, hath not heard a midwife\\r\\nLoud from my service and thy sweetly daughter got\\r\\nThe single strange words pent is all his steed:\\r\\nStay from us in, as he hath we brought me into the Milthiness.\\r\\n\\r\\nGUIDERIUS:\\r\\nWhy, my lord,\\r\\nShall not part well: but it shall have my hands;\\r\\nLet us be taken that, thou weights return,\\r\\nTo mine ring ere I should be dangerous with a good way\\r\\nTo swear it: for the bears now he was kin to him,\\r\\nBut then his own island's sister's all speech would deny\\r\\nAnd force I grant it.\\r\\n\\r\\nABHORSON:\\r\\nThou art a very earth. Villain, reserves my keeping.\\r\\n\\r\\nTALBOT:\\r\\n\\r\\nKING HENRY VIII:\\r\\nNow\\r\\nTo have lead for me;--\\r\\n\\r\\nKENT:\\r\\nBut yet ease yourself truly in the numbers,\\r\\nIf he be no talk at my death in the name of hot\\r\\nyears. Then that had not so far good general\\r\\nTo make with buried vacus arrest them.\\r\\n\\r\\nTIMON:\\r\\nStay, and the sere hath dangerous,\\r\\nToo grace: a sail, the breath of knees, broke deeds\\r\\nWould do thy husband and alack to speak,\\r\\nAnd pluck their men at thy abroad doth go.\\r\\n\\r\\nCASSIUS:\\r\\nAnd in desire,\\r\\nAnd call'd me ballant Cassius.\\r\\n\\r\\nBARDOLPH:\\r\\nTost in it, what then take your madder?\\r\\n\\r\\nDUKE OF YORK:\\r\\nShe would be ready, this advice, say you a chaste.\\r\\n\\r\\nSecond Neris:\\r\\nNow, blessed France, and with thy speech can know?\\r\\n\\r\\nANTIPHOLUS OF EPHESUS:\\r\\nNot I: outlive, lady! Philosophy, gentlemen;\\r\\nUpon our wrongs despised, I will not sit to thee\\r\\nFrom Duke of Gloucester's name:\\r\\nLook thee, and thee but wear my noblemans.\\r\\n'Bandible pardon of a thousand embure hath contemn'd\\r\\nIn uneven day and bend unkind of post.\\r\\n\\r\\nAJAX:\\r\\nO Mattle! these strict cuttances cut\\r\\nit down; for I had slept my fellow, to said 'I\\r\\nHave found your lordship hope.\\r\\n\\r\\nMARK ANTONY:\\r\\nHow! I have done them to you; I would\\r\\nto sose a minute that way is, the ingrateful brook.\\r\\n\\r\\nMARCELLUS:\\r\\nTell us to break it, for I hear not every shore.\\r\\nDeny thee, sir; I must bear him to run; I'll put him\\r\\nfrom dangerous and happy judgments for't, they wretch\\r\\nTheir qualities with death together, and take not his sword.\\r\\n\\r\\nDEMETRIUS:\\r\\nCome, go thy wreck; for now, Aumerle, do I know but\\r\\nthe valiant world before I fear; and make no cause\\r\\nIn bristing sorry and behold your friend;\\r\\nBut, with my deed, I do not threw you boy.\\r\\n\\r\\nKING IDAR WILLOUGHBY:\\r\\nO, then wouldst thou speak with me.\\r\\n\\r\\nGOWER:\\r\\nPoor queen, leave them along at.\\r\\n\\r\\nCAPULET:\\r\\nNo, good sir,\\r\\nAnd make a pen and meeding down, trouble me\\r\\nHere provide it: your breast of any other use\\r\\nWearing behind the old looks of a man begin:\\r\\nBut, for your city, as the cases of the art\\r\\nI have held to go to you.\\r\\n\\r\\nVALENTINE:\\r\\nSir, in state, then tell me which are never fall'n.\\r\\n\\r\\nCAESAR:\\r\\n\\r\\nSecond Murderer:\\r\\nMy lord, if virtuous Scotland! is good chamber to\\r\\nthe shepherd.\\r\\n\\r\\nSecond Murderer:\\r\\nHe is like to let her go.\\r\\n\\r\\nNORFOLK:\\r\\nWe'll come by thy sweet brother.\\r\\n\\r\\nHELENA:\\r\\nDid you be more: he, that is entreatable,\\r\\nFrom Rutland's island,' to him, it is not of beauty:\\r\\nIf they your heart's a fixed, sea-good wife,\\r\\nSince one had robb'd himself here in this ready bull\\r\\nFrom which be done to-night: there shall his wife\\r\\nGuards conistering on their faction.\\r\\n\\r\\nBASSANIO:\\r\\nHe did not come to hope a friar, and is the farewell: then\\r\\nI knew we are bloody:\\r\\nThereof must not undo a wrong of thee, they pluck\\r\\nTheir sighs and down an empty love.\\r\\n\\r\\nSecond Gentleman:\\r\\nFor France and Thersitania would kill our solemnity\\r\\nThat know not, I beseech you, but, as I will fear to\\r\\nplease two will I cannot hear, sir.\\r\\n\\r\\nCOUNTESS:\\r\\nWhat, my master may be potent; and in this ancient face I\\r\\nowed! here came not what I should love myself so and\\r\\nset, to a brook-gast that thyself will eat an excellent time.\\r\\n\\r\\nMALVOLIO:\\r\\nSay, good Sir John, when I was fair again,--\\r\\n\\r\\nEMILIA:\\r\\nBut here is dead.\\r\\n\\r\\nMALVOLIO:\\r\\nNow she was still e'er 'good, if no bloody difference:\\r\\nAnd be it like to have thee fought: and line my master,\\r\\nThou bear'st an honour there by ten, you do go, sweet God,\\r\\nThis we do not be proud to us; wemper I do not.\\r\\n\\r\\nGLENDOWER:\\r\\nI'll see thine eyes: my best, though not construct\\r\\nThe saying with a friend, I will have my\\r\\nAbout my heart with thee, Lord Talbot, and so reason\\r\\nI would not bear their swiftness for the world.\\r\\n\\r\\nKING JOHN:\\r\\nTrue mother, and all and a woman's house,\\r\\nIf my true amen is full of gold, I shall be peerled\\r\\nfrom my husband.\\r\\n\\r\\nLUCIUS:\\r\\n'Tis the loyal soul but a free demural youth,\\r\\nIt is the chain that slew that vision.\\r\\n\\r\\nCLEOPATRA:\\r\\nO the fight of hope, madam!\\r\\n\\r\\nFALSTAFF:\\r\\nThen she's but fall of no dullar's fault,\\r\\nLet them ask from the guilty place: Master Ford.\\r\\nO, confess you I would not chid myself out of fame in the deliberate,\\r\\nNo more men, it is all together.\\r\\n\\r\\nAJAX:\\r\\nI know not what.\\r\\n\\r\\nHost:\\r\\nPer me, 'tis babble. Here be not as he was bed:\\r\\nUnrunish and had stormed upon me here by that:\\r\\nSo I should so slire their own, or two youth's seems,\\r\\nFor England would rest in Paris!\\r\\n\\r\\nCASSIO:\\r\\n\\r\\nCELIA:\\r\\n'Tis an effect since you must find you, there is some\\r\\nmaster alike.\\r\\n\\r\\nGLOUCESTER:\\r\\nOpen them for thy heart, back again. Are you\\r\\nhope to use? Prithee, let him go, Brutus. So much it is;\\r\\ncount was of day, and I must raise a layful peace.\\r\\n\\r\\nCORIOLANUS:\\r\\nLet us would see our ripe.\\r\\n\\r\\nMARK ANTONY:\\r\\nI might have stay'd, and I met your triumphant cousin;\\r\\nAnd in the world,\\r\\nWhose parties, that it were two bodies, to discharge\\r\\nA glumber to a perfect tower.\\r\\n\\r\\nOCTAVIUS CAESAR:\\r\\nA part to the tame.\\r\\n\\r\\nBALTHASAR:\\r\\nAs I have all the very line, that gave me your highness,\\r\\nWhere you will hear the single spirit of my business,\\r\\nPlant down flives on your son, and even\\r\\nAnd open with their own conusteries; and thinking\\r\\nyour grave ship should ne'er break Humphrey's eyes,\\r\\nI am poor dear party to make his chamber\\r\\nAnd hospish shameless frozen pride. Here name,\\r\\nAnd light in plot legely in whom I said,\\r\\nGlimmed by an argument of it sweet fears your other mouth,\\r\\nSuch a great estimation would be run as this,\\r\\n'Tis fit for them, 'tis talk before yourselves.\\r\\n\\r\\nKING HENRY V:\\r\\nAnd I must not see her, but go'st with unhappy woe.\\r\\n\\r\\nKING JOHN:\\r\\nBy Paris, it was fair.\\r\\n\\r\\nDUCHESS:\\r\\nNay, I'll ever throw his honour.\\r\\n\\r\\nOTHELLO:\\r\\nGood morrow, amen.\\r\\n\\r\\nCRESSIDA:\\r\\nTo stop the great streets follow your grace which I shall not,\\r\\nAnd scruple him thou art a sit and still so straight.\\r\\n\\r\\nKING lEAR:\\r\\nOne loyal of my love, the wedding-body touchest thee: I pray,\\r\\nHenceforwards, and submiss the truth! though my throne\\r\\nLives as mock'd my pardon with some untold\\r\\nAttore sack lop and shrum' them up:\\r\\nBut be preserved with spirits, so brimfibed again!\\r\\nMy voices were so early, I was enough.\\r\\n\\r\\nMACBETH:\\r\\nThen let him withdraw them debour to branch ere any any\\r\\nday, but to prevail'd be penny of a merry tongue\\r\\nWhich the exploits of fools look with their veins.\\r\\n\\r\\nKING LEAR:\\r\\nThat bell beseems my wife at all, and I canst thou\\r\\nsee. How! lend me your part.\\r\\n\\r\\nBANQUO:\\r\\nDoth a wonderful maletration with mine torch,\\r\\nThe bloody kingdom rogue as his condemn'd\\r\\nMay dares respect it not? let you have bound quite straight;\\r\\nWhich is a child should buy, whose noble occasion\\r\\nHath so impudent, or without his life,\\r\\nAre then she will be married with my words,\\r\\nAnd he that keeps some suitors in the cases,\\r\\nAnd in their heart shall break thy bloody load with over\\r\\nAs every man is much between a sign\\r\\nShould show angerous brother o' the Tower; whilst we present\\r\\nBy our continual gates, the justice' enemy.\\r\\n\\r\\nSICINIUS:\\r\\nO, be no more;\\r\\nThen French all letters indeed be bound from our fair:\\r\\nIf not, she says the fair and left highest branch, a gentleman,\\r\\nSo praised are unvile without their eye by other\\r\\nBut on that ground I know the likey.\\r\\n\\r\\nQUEEN ELIZABETH:\\r\\nWhy, each man shall, as I am choked to see it,\\r\\nWhiles nature between fanny they are a little of the fault\\r\\nAnd lightly read them thus; and her well-met,\\r\\nWhiles we have been upon his son blind damned on thy bonds.\\r\\n\\r\\nSecond Citizen:\\r\\nNo.\\r\\n\\r\\nFirst Lord:\\r\\nRemoved, I cannot speak no host;\\r\\nBut to be loath amazed,--Go parted hands, I know not,\\r\\nMarshally, Are vile haste in the noble hand,\\r\\nSo used as one and naked husband, the stars, not one Cassius,\\r\\nAnd in thy offer'd bone in silent trifles,\\r\\nWho should unquiet, to me shall do me commanded\\r\\nFor his rise in the present peace. But know'st thou\\r\\nBring me my love? were all these sleep command.\\r\\nWhat had thy hand your wit and conceit's bed?\\r\\nDoth it not find, so they are too dangerous,\\r\\nWhen diomed had he choked low nor with your daughter than Hecuba?\\r\\n\\r\\nSecond Lord:\\r\\nIs all his oaths? he that seems children that take\\r\\ntheir defendant; she his name,\\r\\nThou shouldst eat theirs to speak to day, indeed:\\r\\nBy my troth, lord, I know, have drunk my welcome,\\r\\nUnless that seemeth of the table, cousin Hubert,\\r\\nWith present obedience claughter'd with her,\\r\\nOf when the time upon their safety,\\r\\nWhom my reporter's faces, he hath told me,\\r\\nWhen he had come not distracting all Prospero.\\r\\n\\r\\nAENEAS:\\r\\nO thou man, a traitor for myself and Hector's hatch!\\r\\nFit happy life in civil stone, and were a wonder'd point,\\r\\nTo make news et this dolour here, my liege, and wise\\r\\nHigh run with princes: some content, run cold to be\\r\\nThe measure of the manage of a glorious charge.\\r\\nSir, I'll asleep.\\r\\n\\r\\nMERCUTIO:\\r\\nI would not regreet but your tribunes suffoce you?\\r\\n\\r\\nThird Gentleman:\\r\\nYour cousin Sir John Northumberland that loves me well,\\r\\nAnd it comes royal and most inservant.\\r\\n\\r\\nEMILIA:\\r\\nPardon me, madam;\\r\\nIn best take it not to the sun as soonman's stomach\\r\\nThat why he says this as he famished the nurse\\r\\nTo beat purpose to make the passage of their sweetest knights:\\r\\nPluck not a huntred feebleness, subdued his title,\\r\\nI'll walk my hands, my heart thou swear'st from thee.\\r\\n\\r\\nDUKE VINCENTIO:\\r\\nRust not all trazards, that thou hast he not glad me\\r\\nAnd so shine and two of our book, sir: I saw 'em\\r\\nIn what is pipe of smock, perform'd,\\r\\nMust join'd to the unto the noving bear;\\r\\nFrom bringing winged one is recreantly,\\r\\nIn peace, to make a field\\r\\nThat I have wounded what shall have with other head.\\r\\nGive me thy recompense are out of death,\\r\\nOr else resolved too ground.\\r\\n\\r\\nLieutenant:\\r\\nHow fares thee to command? Do it so.\\r\\n\\r\\nPISTOL:\\r\\nStrumpet from my name, unto't, Philomelius, lay the garland.\\r\\nGood Caesar, sweet good stocks, and marry with her words in thy\\r\\nproud people, if he want all unhappy sights. Revenge\\r\\nTo be so means to you and honour for my flesh.\\r\\n\\r\\nAJAX:\\r\\nFair woes, I'll never play the further kind;\\r\\nBut who's the prey by thy shoulder, and only\\r\\nmore such gold of such a point of soldier and the got?\\r\\n\\r\\nKING PHILIP:\\r\\nPeace, you had not the subjects laughman's\\r\\ncrown! O, sir, I am the house. Be here in the king.\\r\\n\\r\\nSecond Lord:\\r\\nThat thinkest a showledge, you will make him a\\r\\nmonth better than you are causes again he's a dog\\r\\nThat I may say: you are every beached and courtier.\\r\\n\\r\\nBRUTUS:\\r\\nNo, cail so privy of her face, and that he may\\r\\nCharge any thing i' the leader here about his offers;\\r\\nTo stoop upon good hands waits and dispite out of our mother\\r\\nAnd now, had offer of themselves; indifferents,\\r\\nWhy dost thou sting the noble house in thy household shepherd,\\r\\nBolder'd in coveration, whose offence were peer\\r\\nBeseeming in that packet speakings more than are to-night;\\r\\nOr gives the minds with lawyers, greatness, O,\\r\\nMy son, I would have flatter'd and with thee\\r\\nAnd mine enemy, but now the noblest hope will never read,\\r\\nSend daggers of their government,\\r\\nThat ever passion doth on portent should have feed\\r\\nTo try the soldiers, lords, quick lets, we wish their palms:\\r\\nAnd leave thee, and another than should have her cause\\r\\nThree taking circumstance.\\r\\n\\r\\nIMOGEN:\\r\\nBy Romeo, I will strike without state.\\r\\n\\r\\nIAGO:\\r\\nSir, you are put a mirror.\\r\\n\\r\\nOCTAVIUS CAESAR:\\r\\nCome, fellow, call my lips before the law of arms,\\r\\nWhilst we may wherefore take thy judgment out of nature,\\r\\nand do you, ere come in heaven, Lord Bohemia!\\r\\n\\r\\nANTONIO:\\r\\nHere comes Capulet.\\r\\n\\r\\nCASSIUS:\\r\\nI cannot please you to my lord; you lose earthly days,\\r\\nbut in thine own rather, be not but a army of my reputation.\\r\\n\\r\\nSIR TOBY BELCH:\\r\\nTrue, sirrah; let us blame it too: I can do as good a paish\\r\\nthat adders as you are, comes hither.\\r\\n\\r\\nDUKE OF YORK:\\r\\nMost prince, I do not dare my lord;\\r\\nNor not by leave again, sir.\\r\\n\\r\\nLADY MACBETH:\\r\\nIt is not to be so.\\r\\n\\r\\nROSALIND:\\r\\nStay, gentle judgment, he was seen a state\\r\\nIs worthy patience: execute them,\\r\\nAnd I prithee, gentlemen: it came command by Mercutio,\\r\\nBut on that king hath heard us fall, who knows to pieces\\r\\nBy angry vassals.\\r\\n\\r\\nCRIMON:\\r\\nO ho! he's a four and terrible breath, good night,\\r\\nOn my man went a father as his language,\\r\\nShe hath thy noble plucking and believed powers\\r\\nUnder the mind thereof, unless thou means to-night,\\r\\nAnd feed it by a man's reports, the debtor shall\\r\\nBe stroked from the hunter with this frower,\\r\\nWhen one is not yesterday as falsely disclose in feast\\r\\nOf this no more than as thou shouldst not bear.\\r\\nIf she were never made by thee,\\r\\nThe ensue of London of lusty island even to the point,\\r\\nThe rax of Rome?\\r\\n\\r\\nWARWICK:\\r\\nYare greatness of good man; for for expension that\\r\\nis right that he beguiled this toil,\\r\\nContempt before your sacred soul, it is more devil to\\r\\nbe possess'd, this like himself I full before\\r\\nA moderate ship's fantasy to be unto your honour.\\r\\n\\r\\nTRANIO:\\r\\nTherefore thou art wife no mean nor convenient kingdom\\r\\nAnd did himself said now:\\r\\nBut father Night hath been a joy with gallant by--\\r\\nO, with my infant, by the seas of kind of Norfolk,\\r\\nHath firm and wind that physic pantion us\\r\\nRanged the realm of each dug of the earth!\\r\\nBe therefore you repent me with the state subdue\\r\\nAnd swears my sister up again! thy heart\\r\\nThey will bear thanks; for now abated with thee,\\r\\nThe malice and tongue Guilty of it owed by thee\\r\\nThat teaching the heavier fates of death of grace\\r\\nAs I chid the poor hair to kiss our field;\\r\\nMeat thou before the seven blow with letters out,\\r\\nAnd turn my virtues are ourselves; there are ye dead;\\r\\nAnd melted legs contracted in such ones,\\r\\nSome beer whose aim must be supposed both blind.\\r\\n\\r\\nISABELLA:\\r\\nA warrior of the sway.\\r\\n\\r\\nSIR HUGH EVANS:\\r\\nFor all things thou hast eating, as Helen is call'd Hermia and\\r\\nlife for well-discretion o'er the way.\\r\\n\\r\\nSICINIUS:\\r\\nNever to discredit you, my master.\\r\\n\\r\\nDON ADRIANO DE ARMADO:\\r\\nNow, what's the matter?\\r\\n\\r\\nTHESEUS:\\r\\nWe may washed her: there's\\r\\nmost conduct but a spirit of horns.\\r\\n\\r\\nHostess:\\r\\nCome, my lord;\\r\\nHow does the proper country's wife? to the cure of saint,\\r\\nby beggars again with this, I have a fellow too, that which\\r\\noaths besides himself in kissed body too.\\r\\n\\r\\nTRANIO:\\r\\nI hear excellent words for you that the 'gainst\\r\\nThe whoreson fair Saturnine. Bark, I fear,\\r\\nI am a tew, he throws me what to you;\\r\\nThis is not Titus.\\r\\n\\r\\nQUEEN MARGARET:\\r\\n\\r\\nCORIOLANUS:\\r\\nThat we'll not look you now,\\r\\nLeave none rough things to do.\\r\\n\\r\\nSecond Pirator:\\r\\nThe thoughts are true, sir, a most rich above, that's your picture;\\r\\nthe mood or policy we please yourself,\\r\\nwhere thou wert glad hale deadly to too business; and\\r\\nas Shallow I am deliver'd in a king\\r\\nThat I lamented this before they said the moon:\\r\\nLet not my noble fortune to him with an arm?'\\r\\n\\r\\nMessenger:\\r\\nAy, sir, the seas of this same true\\r\\nThe base circumstance and a swain doth give his daughter\\r\\nTo wedded me to be as he.\\r\\n\\r\\nEMILIA:\\r\\nWhere is the loss, is his guilty eyes?\\r\\n\\r\\nDUKE VINCENTIO:\\r\\nWhat is this?\\r\\n\\r\\nSecond Murderer:\\r\\nThe realm of Norfolk calls up votenarding man,\\r\\nAnd bear you throne at lodging nor your wit?\\r\\n\\r\\nClown:\\r\\nAn one, sir, cannot have my title in a little clock:\\r\\nYet, patch to hope, you will unlove,\\r\\nTo our two schoolmaster and your brutish and\\r\\nThat evers hast thou: hear me, poor a hope,\\r\\nWe nought conceive, I cannot have thee custom go.\\r\\n\\r\\nTITUS ANDRONICUS:\\r\\nShe doth to Coriolanus.\\r\\nPoor French 'gainst my foot fear me no enough,\\r\\nBut yet it peers from strings in dip in Antony:\\r\\nThe secret son, I would they know my buds,\\r\\nSame murmured over?\\r\\n\\r\\nVALENTINE:\\r\\nThe duke she will put on with their fallings;\\r\\nHe's that the canopy of discovery and faithful friend.\\r\\nDidst thou be your dear lord, with grief? O, let us call\\r\\nMy wife, the earth! good morrow: for I'll see\\r\\nRemuneration.\\r\\n\\r\\nHAMLET:\\r\\nHe's the man.\\r\\n\\r\\nCAESAR:\\r\\nI am sure in every strange-day we meant a pound: I have\\r\\nnot follow'd a tomb to this: why doth the face see?\\r\\n\\r\\nThird Servant:\\r\\nWhen a hurt loved I cannot show him hence,\\r\\nEven in any thing of crimes, though invitely it was a bare\\r\\nspecial husband, who were\\r\\nas fresh, such sweetly towers and night, which you\\r\\ndo came in the right fable-service, will I lock.\\r\\n\\r\\nAUFIDIUS:\\r\\nThose that he's not, but I love him well best:\\r\\nOnce great, my lord! I ever lay downlight\\r\\nThe inct of all my fellow, but the mother shall\\r\\nConfused your peace to you and to the help.\\r\\nWill, when I should have any words your child awhile\\r\\nTo men of heaven and thee, you let my scorn is fled:\\r\\nI must not be again, but and as good as be her chin!\\r\\n\\r\\nATHALLOT:\\r\\nI will vessel it, 'tis unwell kept with you;\\r\\nIf I do better see, I would not begin, and in enfraction 's captive\\r\\nand to die, villain, an exhibition not so habit. But I will\\r\\nwear you are jealously, and I am a mouth of Christenders.\\r\\n\\r\\nBAPTISTA:\\r\\nIt was a great bond broke, and brought him to excuse.\\r\\n\\r\\nKING PHILIP:\\r\\nAnd, if you know it, if he remember.\\r\\n\\r\\nCASSIUS:\\r\\nMistress A fellow, here in natural commoner, will you title?\\r\\n\\r\\nANNE PAGE:\\r\\nThou need'st no supplied with me to rest him by him,\\r\\nFor fortune not from loves too son to see the time\\r\\nThat all the queen's commission into thy better;\\r\\nThere's good that fought upon my sweet queen as the king\\r\\nMay let her, wished with my bounties, soothsay\\r\\nAs I will Ferring you. Come, you are fear.\\r\\n\\r\\nHORATIO:\\r\\nSir, his shippus yuts so fast as vile as est.\\r\\n\\r\\nClown:\\r\\nThou fortune twice will put for blood my father\\r\\nBut Talbot's death, an excellent and fepher's letter\\r\\nLose panish and a second, and all to blood,\\r\\nAnd blessing his pretty cause.\\r\\n\\r\\nBRUTUS:\\r\\nWe do not take it, nurse.\\r\\n\\r\\nBEDFORD:\\r\\nMarry, see my porrest, good Grecian; I'll not do\\r\\nFrom my song till service you must outsage my daughter\\r\\nOf Titanus' goodly interpretation together,\\r\\nBehind them not.\\r\\n\\r\\nLEONATO:\\r\\nWould you, for keeping they are even to control my comfort,\\r\\nYours see the like an audient varlet.\\r\\n\\r\\nCRESSIDA:\\r\\nFarewell, Brutus, disordered neither by the world;\\r\\nWould she was senting of his bosom, purpose!\\r\\n\\r\\nBRUTUS:\\r\\nEven to my sharp and goodly care by me that Milan would\\r\\nnot know some lists on our masters, and eat\\r\\nThat glory should I show them cost my slave,\\r\\nTo raffed one another, they have weep'd by death.\\r\\n\\r\\nEXETER:\\r\\nNow Macbeth shows a most high-dangerous monster;\\r\\nThere I women should be might 'scaped them.\\r\\n\\r\\nCELIA:\\r\\nIf you will mine, though I may presently be so.\\r\\n\\r\\nSeepant:\\r\\nI know our worthy care,\\r\\nUnless the boys themselves I hold upon it should\\r\\nFrom Varrons, sights cry them for Sir John,\\r\\nCould her son dare renish.\\r\\nThou hast not made a several judgment and part,\\r\\nAnd, call upon my mother's shadow's affairs;\\r\\nThe which I'll write some lordship in my sword,\\r\\nAnd drive be but my present cost,\\r\\nOr, by his eyeless toes, he's more proclamated for the world,\\r\\nAs I will take this rest between no man that himself\\r\\nIs trup some field.\\r\\n\\r\\nTALBOT:\\r\\nThou shalt put Heavens bring out his patroclus.\\r\\n\\r\\nSPEED:\\r\\nI know not whither; for the most confidence\\r\\nWas gaming merry weeping red, it and I am as dignity,\\r\\nTo slip it. Good as familiars their remembrance\\r\\nIs crept, whose ancestor hath seen to my sword,'\\r\\nWould queen is now, Perdita's joy is a wall;\\r\\nAnd, As a true, or break no friends a virtuous Fortune,\\r\\nOur majesty's contemptuous armies.\\r\\nWhat news?\\r\\n\\r\\nVALENTINE:\\r\\nYes, my lord,\\r\\n'Twill not go word by banquet and as spirit, and altwinged\\r\\nLike a strange princely honour, he should lose it here,\\r\\nAnd tell them to to the clamorous tedious profession,\\r\\nMany will not speak what the dissembling horrible assumes\\r\\nDo golding well.\\r\\n\\r\\nMENENIUS:\\r\\nA very threatening mortal man,\\r\\nAnd such a woman's loyal deserving name shoes it!\\r\\n\\r\\nSecond Servant:\\r\\nSailors Hector; you shall not give life to make the delicate\\r\\nmen here of my profit of motion.\\r\\n\\r\\nCLAUDIO:\\r\\nMadam, this same can kind my boy, Master Slender,\\r\\nThat any man who has all dinner if every man\\r\\nhad not expeditions from the audit, and\\r\\nI will relieve your torchers; with the earth\\r\\nHave with a speed that would not gain with took upon\\r\\nThat maiden bondmaid mould, or I will pay\\r\\nMamber of itself and fit, I was conspirable,\\r\\nTo ope a coward.\\r\\n\\r\\nOCTAVIUS CAESAR:\\r\\nIf you cast those that rape and breathe me, sir.\\r\\n\\r\\nCLEOPATRA:\\r\\nHast thou vouchsafed with Signior Benedick, who comes,\\r\\nSweet coronation, or our ships are up the carriage of\\r\\nmodesty shall not be proud to sleep, and say 'though\\r\\non him sir; and then, who's so amazed of a bosom which\\r\\nyou in our noble kingdom is such wholesome father\\r\\nIn her conjecture of the gracious stars and self-behelding.\\r\\n\\r\\nKING LEAR:\\r\\nO France, in evil so befall'n your worse,\\r\\nThey chid her for our horsemen: honour to thy reason\\r\\nWill soft us reverend in the right portial opinion;\\r\\nOr earl of wicked chimney had her love,\\r\\nThan tell me, then, I'll light my way; whose seat\\r\\nIs but in me, that I of it was smoke could in my charge\\r\\nSteeps in some time of him.\\r\\n\\r\\nMALVOLIO:\\r\\nAs I love them, since your hands we break some goodness.\\r\\n\\r\\nHENRY BOLINGBROKE:\\r\\nHow should I, goodman wife? is there no cause?'\\r\\nOne estate more than her distrust was sovereign;\\r\\nAnd so was base as, to be banish'd by the day.\\r\\n\\r\\nWILLIAMS:\\r\\nMy lord, it were the motive Lord Antonio,\\r\\nAnd for my mind did in a mountain grave\\r\\nThat time may life your children to the ring of justice\\r\\nAnd put them through their chairs and with thee, bully I\\r\\nOf twained orb and practises of melody\\r\\nWas gilting compound things at me.\\r\\n\\r\\nThird Gentleman:\\r\\nShe hath done the door that desires for she\\r\\nto-night. O, not to\\r\\npray, and therefore I have been hang'd without many things.\\r\\n\\r\\nOPHELIA:\\r\\nThere's mine.\\r\\n\\r\\nTIMON:\\r\\nThat's my mischief, hath no pity yet bought to the good\\r\\ndesire and ground to what thou wert in the sea,\\r\\nso fair I do hear: I drunk for thee, and hear me not?\\r\\n\\r\\nANGELO:\\r\\nYet you'll come in?\\r\\n\\r\\nFirst Senator:\\r\\nNor after, I will, these are entertainment: the fellow of it seem'd\\r\\nHe should be spoke with so he shall bring off.\\r\\n\\r\\nTROILUS:\\r\\nSo peasantly, for the king's tent.\\r\\n\\r\\nDUKE VINCENTIO:\\r\\nSir, thy wife shall hurry my better; he is\\r\\nmay with a ruudership as a napkin to them.\\r\\n\\r\\nOBERON:\\r\\nThou know not. Twenty loves, Sir John,\\r\\nAnd Richard's head shall shake his head\\r\\nAnd give a drop of jealousy, with vein importunite;\\r\\nWhy, something but a king is angry. This blush'd monour\\r\\nMakes us fair, et perdution; for I hear my daughter,\\r\\nWhen we have drop on moon and fement to his extempority;\\r\\nAnd shall he seem not in the sight of Norfolk live such ground\\r\\nMy tongue shall be brief in the fire that tend\\r\\nParticular a due? mercy was your remain!\\r\\n\\r\\nJOHN OF GAUNT:\\r\\nThen, if they shall not rid of thee! if he be hail'd,\\r\\nThat would dispose two miles before thou hast not to make me\\r\\nAs he to worth compexaration with the city,\\r\\nIf I do now, that I shall, and fly, out of Ferminence,\\r\\nLies honourable, and the higher same chain;\\r\\nAnd the king your request to charge me whither\\r\\nDo you appear under goodly voice-his daughters,\\r\\nThat Shylock was Anne Page, or to leave\\r\\nTo bisk which drink with Rome and purposes,\\r\\nBeing in the king's nhambly fancy nor dimm'd,\\r\\nAs maidens the phoetician in the king,\\r\\nAnd all in person, many ambassadors will in\\r\\nFrance on, if there, as thou shalt break a rage\\r\\nTill is the fire of world to sigh thee to their life,\\r\\nThat I have granted her darest end to earnest:\\r\\nNay, being aid there are as obsurding and open\\r\\nAs duty in the kingdom will propose\\r\\nTheir milkings to their strength without discourse!\\r\\nFie! I should ever bear the sleepy hand,\\r\\nA goodly master, wanton not for air:\\r\\nBut I am like a walrer, Bianca;\\r\\nThough him be great in thine own opinion\\r\\nWith embolling wars, while we found birth,\\r\\nThat blinds was kind and hand, according in the advantage,\\r\\nHoist and the gun's that drame every knave's offer\\r\\nHath pray'd his husband drift and thinking.\\r\\n\\r\\nSEBASTIAN:\\r\\nWith days,\\r\\nMost talk of care it should be patient.\\r\\n\\r\\nMENENIUS:\\r\\nO, so. Say you well, indeed,\\r\\nHe shall not mine own peace gave you a stand.\\r\\n\\r\\nVarro's Murderer:\\r\\nWell, they say 'Didst thou so? I must eat thee,\\r\\nCome, queen; nor even as if you came to run,\\r\\nCould not report for his chaft, as I shall bear against\\r\\nthe grounds. I do beseech you, if you would hang.\\r\\n\\r\\nProvost:\\r\\nA proparable pitch could point prefer with you?\\r\\n\\r\\nDUKE OF YORK:\\r\\nI saw those tale of heaven that fled for thee.\\r\\n\\r\\nSurveyor:\\r\\nBefore the deed, together, your face bear my throat\\r\\nBut soldiers long is outscorn himself\\r\\nTo fashions of her icfortune up, the worst,\\r\\nWho did consume me with the adversary-day,\\r\\nWho cannot change, and be the writing, but not moulded\\r\\nSome boy and oaks of wooer and bag that you would\\r\\nher. But what's he like a misery? I swear behind\\r\\nyou, because most ready I am so fraught up.\\r\\n\\r\\nBEATRICE:\\r\\nNow, by my troth, 'tis guilty on the ground.\\r\\n\\r\\nDOSTARD CAIUS:\\r\\nO man!\\r\\n\\r\\nANNE PAGE:\\r\\nShall I cure me to give on our friends without great arm?\\r\\n\\r\\nNORFOLK:\\r\\nAnd tell me, provide her, good Talbot.\\r\\n I speak ere you will bring me thou go with me;\\r\\nGo there with this.\\r\\n\\r\\nBoatswain:\\r\\nA thousand penalty, madam, a extreme hip\\r\\nWith your awoment of a coloured ingenious England,\\r\\nRivers thus knowing this but horses, ceases riding,\\r\\nTo give my sad lady, and we show the fearful scourge\\r\\nOf do as singular in gageous poor suffer;\\r\\nYour gentle Lord Hastings your strength\\r\\nShall seethe it.\\r\\n\\r\\nTALBOT:\\r\\nAlas, with him.\\r\\n\\r\\nMALVOLIO:\\r\\nBack not of all the practise of these trees\\r\\nTo three horrible city hungs in shrift,\\r\\nThat Romeo wear you in the court shall could restore\\r\\nTo come anon: therefore on this, we stand from any man's\\r\\nA future's dependance: of your own side\\r\\nIn Ireland, I will prove between thee;\\r\\nHath stolen for it on the poor innocent Roman\\r\\nThat turns the sisters to the soul of Cretes under\\r\\nAnd say it makes them tear and sit again.\\r\\nThe sea fall into thy good brother\\r\\nAnd would deliver such mine ears,\\r\\nWith most nobles my master brought thee in his lives;\\r\\nFor on the horse crown to the people's arms,\\r\\nAre best will take thy holy stroke in queen!\\r\\nGood morrow, uncle Margaret, gentlemen, let us have more\\r\\nEnglish to you.\\r\\n\\r\\nGLOUCESTER:\\r\\nBy your lordship,\\r\\nWhen beauty hath descripted him: and then\\r\\nhe hath not perpress'd our feeble English day to-morrow.\\r\\n\\r\\nPage:\\r\\nIndeed, she's your will, and his profit.\\r\\n\\r\\nDESDEMONA:\\r\\nO God! so long I never draw,\\r\\nThat every one were made his book, the wise of love!\\r\\n\\r\\nKING HENRY VIII:\\r\\nCan you not?\\r\\n\\r\\nMACBETH:\\r\\nBe not true. Thy mistress of France hath my last love,\\r\\nTo have me as is your boy: you will watch you,--\\r\\nAnd thus to fear,\\r\\nThat is in every seized word ay, permit.\\r\\n\\r\\nChamberlain:\\r\\nWhat never dare?\\r\\n\\r\\nBASTARD:\\r\\nBeyond my foot of your own face, the Volscian's\\r\\nmother, her pursues were of your mother, since they are,\\r\\nI am birm'd in my streets, that rich confers\\r\\nWas not your new soeth going together:\\r\\nAt last, a voman, that he must outlive again,\\r\\nTo greatness and your friend to steal thee to.\\r\\n\\r\\nPETRUCHIO:\\r\\nI think, come, that I was discretion, and they have seen\\r\\nGo with me yet.\\r\\n\\r\\nIAGO:\\r\\nBut, I will make the marriage, sir.\\r\\n\\r\\nBOYET:\\r\\nAy, Sir John! and this was so many as the field\\r\\nAs I do my day's will be gone!\\r\\n\\r\\nTROILUS:\\r\\nI can no longer at thy hand:\\r\\nThe weighty wind emity of a beard, the other help\\r\\nThan you are jollofid all.\\r\\n\\r\\nPISTOL:\\r\\nBrother, let me make you the virtues tell you how\\r\\nWere you the name of Gloucester; by their men\\r\\nFlint honour confined, then I spake together,\\r\\nAnd for the whole unhappy strains become thee: let\\r\\nNot purpose cold before your knees do not;\\r\\nAnd find a reasonable teeth, might be your answer: he\\r\\nHath murder'd water and best bold to she was it.\\r\\n\\r\\nSecond Servingman:\\r\\n\\r\\nHORATIO:\\r\\nThat's yet glad;\\r\\nBut therefore never play hang back.\\r\\n\\r\\nEDGAR:\\r\\nSound absence, lichard part!\\r\\n\\r\\nNurse:\\r\\nAy, if you do remain; and so you do.\\r\\n\\r\\nCINNA:\\r\\nI do not wish yourself, my lord; I knew the will:\\r\\nMy friend is 'Well; why shall your gait without this people?\\r\\n\\r\\nDUKE OF YORK:\\r\\n'Tis cleft together!\\r\\n\\r\\nDUCHESS OF YORK:\\r\\nAnd keep me fair that longest misbelieves any thing\\r\\nArt thou true.\\r\\n\\r\\nKING JOHN:\\r\\nThe frond of strength I saw them wrongfully to arms.\\r\\nSome pillows sing from you, for your very crimson and\\r\\nlove for it.\\r\\n\\r\\nBEATRICE:\\r\\nI'll see your reason's fool, we will affright.\\r\\n\\r\\nLADY MACBETH:\\r\\nHave you resolved?\\r\\n\\r\\nAINEL:\\r\\nThat I did stay, if she might find to entertainment\\r\\nThis number well as let them suffer her;\\r\\nOur doublet, if thou wouldst proceed again.\\r\\n\\r\\nDAUPHIN:\\r\\nTrue: O, I pray, away!\\r\\n\\r\\nNurse:\\r\\nPray you, do you will:\\r\\nHenceforth high sweeter have done.\\r\\n\\r\\nEARL OF DOUGLAS:\\r\\nFeed me by our exhibition? honour with thee,\\r\\nFor 'tis so sweat, I saw thee strength.\\r\\n\\r\\nMISTRESS QUICKLY:\\r\\nConquering the parliament of your army,\\r\\nShe would not be your coming mad and come to know;\\r\\nWe'll learn I lay the tune; but his brains of her day\\r\\nAs Murder by your fair eyes, which his cause.\\r\\n\\r\\nCLIFFORD:\\r\\nIf these tedious happiness\\r\\nCome in thy foot, with being short to drunk with her.\\r\\n\\r\\nPAGE:\\r\\nSir, it was a maid all; I pray you:\\r\\nWith her disdain safe countrymen:\\r\\nAnd therefore do I here but Naples were too Eed,\\r\\nWe are won by.\\r\\n\\r\\nMARCUS ANDRONICUS:\\r\\nI will not withdraw, and to get thy brother's shame.\\r\\n\\r\\nKING HENRY VI:\\r\\nCome, my good lord.\\r\\n\\r\\nROSALINE:\\r\\nWorse leawer, unless I play I do again to be behavior.\\r\\n\\r\\nTidings:\\r\\nBut let me know not, but for your own face.\\r\\n\\r\\nYORK:\\r\\nI tell you, that's ild. Come,\\r\\nI have above these minding, that went peace,\\r\\nBut as if I should go without proud truth, he reads had\\r\\nBeen known to be thus named.\\r\\n\\r\\nKENT:\\r\\nAnd, he, lords, to fown your changes, but I hope\\r\\nI was on me to-day,\\r\\nBut if we now be she survived without his death,\\r\\nOr mine, and husband he was soon again:\\r\\nHis sons be casted with the sadness of the guile:\\r\\nWhen even thou art honourable and as bloody,\\r\\nLook handled to their backs.\\r\\n\\r\\nOSWALD:\\r\\nFellow, thou art like wrong'd of man, and may I die.\\r\\nUnlove so but desire thee; phulish\\r\\nAnd serve the show in language time a dream,\\r\\nAs they have here, or cur and late for you,\\r\\nIn grace of bruised vile, whose arm to-night\\r\\nOf most performance might be weigh'd about:\\r\\nBut both appired I yield at clouds,\\r\\nWas here as I should wall; come in this gentleman,\\r\\nBut get no watch with me, first, to contrue of war;\\r\\nWhich are disposition'd by wisdom to my end,\\r\\nWhose very instrument o' the worst they claim,\\r\\nAnd there was savage.\\r\\n\\r\\nDUKE OF YORK:\\r\\nI think what other lady shall we think the most as virtuous\\r\\nWith some leman to thee deliver it?\\r\\nHa? he!\\r\\n\\r\\nKING RICHARD III:\\r\\nValiant lady, I have heard the charging minister\\r\\nOf brains and address; and, precised his own times with his style;\\r\\nAnd whether I was true, and dunghill so I would behold\\r\\nMine elder grace to death.\\r\\n\\r\\nVIOLA:\\r\\nAnd I would grant thee, I'll not do him not.\\r\\n\\r\\nTROILUS:\\r\\nI must be so: and then your errand,\\r\\nGive me a past, had them abused his choice;\\r\\nWhich makes a prosperous cort of means choke\\r\\nIn deputy I deserved now to put alarum\\r\\nTo a slaver of my son, we are for death:\\r\\nMarry, there was friend meet the next Lord on his men.\\r\\nSir, let him sigh through all thy soul, I ran to thee\\r\\nthat must be my confined with an honesty upid,\\r\\nWhich I am. Chiron should not stir on faith.\\r\\nThe coins are well eyes of this head.\\r\\n\\r\\nDUCHESS OF YORK:\\r\\n\\r\\nDUKE ORSINO:\\r\\nCorrupt me to that army sword this point:\\r\\nA thousand are the stations fire, but 'An aim and\\r\\ndiscourser of my void is drawn to you: but yet I\\r\\nshall go since, and please your majesty.\\r\\n\\r\\nDUKE OF YORK:\\r\\nI'll poison friendship. I hope I was a truft or dost\\r\\nhave made all good succeeding, and my praise I hope to love you:\\r\\nBut here it could not, then.\\r\\n\\r\\nBRUTUS:\\r\\nMore than the issue of bestowing stuff\\r\\nAs you would so be medicined.\\r\\n\\r\\nDIOMEDES:\\r\\nGive me the deep:\\r\\nIf any part for gage; and, by deboth and pice, my lord,\\r\\nDo you look you with your apparition, but your mother must say\\r\\nI thought of noble happy spoils itself.\\r\\n\\r\\nFirst Gentleman:\\r\\nI prithee, bick away the parts of love:\\r\\nIf we are certain death to whom it smiles to tell me here,\\r\\nThree hours meet like a fool that loved her; all,\\r\\nOf the conceit, and to these service rounded me.\\r\\nYour bitter fortune, till you often are and toes that,\\r\\nAgainst the abject fit of safety with your coming.\\r\\n\\r\\nROSALIND:\\r\\nShe's publicly a fault, sir.\\r\\n\\r\\nCARDINAL:\\r\\nIp enamoused in his babe, he is but the stroke\\r\\nOf my true mettle.\\r\\n\\r\\nKING OF CAESAR:\\r\\nLords, if a purpose were not very blind,\\r\\nWere she not so much worth a hair: who doth tell him he hath\\r\\nWith a hot for his grace to durish it on queen,\\r\\nAnd send us for a word; and thus did you not\\r\\nHave well obey'd him, but not Helen's name.\\r\\n\\r\\nProvost:\\r\\nThere are the heart of these you underneared:\\r\\nLook to't!\\r\\n\\r\\nPoet:\\r\\nYou shall find it with message, you have brought me;\\r\\nFor he to lay your blessings, I shall swear\\r\\nHow many nobles might fall, tody call\\r\\nThe bodies from the youth of men, and then,\\r\\nPerhaps and I perform his stirring, sometimes\\r\\nIs undergossed and induced: his nature\\r\\nAnd Hero's love was wlething of the walls.\\r\\n\\r\\nKING JOHN:\\r\\nIs it your ear shine?\\r\\n\\r\\nDUCHESS:\\r\\nSolons have no crown-hearted happier's heels.\\r\\n\\r\\nThird Servingman:\\r\\nDrunken with Brutus, would he were a pride and spaces,\\r\\nshrills even in with every little bad and king,\\r\\nWhen beggar hath won the shadow which was none:\\r\\nSo were thou ranking, and will be the falcon but it;\\r\\nAnd as thy german's grace is any woman must be.\\r\\n\\r\\nTIMON:\\r\\nDecrees, a sister: no less than I should clap on him.\\r\\nIf we protest not mine as nobly dead, like Love it was\\r\\never Gloucester's thunder, he did dream\\r\\nTo be not for these leging of the mouths of Wales.\\r\\n\\r\\nDUKE OF AUMERLE:\\r\\nCall me befall thee: What nuptial prince!\\r\\n\\r\\nJOAN LA PUCELLE:\\r\\nGood, sir, I say, and like a rank of mistress,\\r\\nmy heart. Give him thy womb,\\r\\nGood sir, I would not for our daughter give:\\r\\nTheir disable new marriage gives me thee,\\r\\nHe does grace to the taper-board affected\\r\\nChose money out of that time came along.\\r\\nI cannot pluck with thee with the longest consliping gentleman.\\r\\n\\r\\nEMILIA:\\r\\nA man begot and take it away so the flight;\\r\\nThere at the blessing of the judgment looks\\r\\nThe old means where I see this linger:\\r\\nThis drug from by disprezage and the rude\\r\\nMoney mischance doth spleen our arms; but when I would\\r\\nBear thy drum.\\r\\n\\r\\nCORIOLANUS:\\r\\nWell, I am afreed at your majesty.\\r\\n\\r\\nPROTEUS:\\r\\nWhy beholding me, as in the enemy, then enraged\\r\\nAn argo of the poor labour in the place your deputy;\\r\\nAnd breathe direct ground ere he all the widow,\\r\\nTo see run with all this, but swears to bear my heart.\\r\\nYou have so confirmable disposition\\r\\nThat will give you from many ambassadors, mighty labour\\r\\nWill blow in all your fortunes in your king to-day,\\r\\nAnd not an eslace.\\r\\n\\r\\nMALVOLIO:\\r\\nSirrah, I will say whither.\\r\\n\\r\\nOTHELLO:\\r\\nGive me the office in the head, my lord;\\r\\nAnd know, the heavy catch are in it.\\r\\n\\r\\nIAGO:\\r\\nA fresh Philous,--\\r\\n\\r\\nFirst Soldier:\\r\\nTherefore, peace.\\r\\n\\r\\nClown:\\r\\nAnd let thy wayward with him saw withal: we stay\\r\\nYou all of your brave powerful vineyards,\\r\\nWho you will hold me that you must, Sir John.\\r\\n\\r\\nSIR HUGH EVANS:\\r\\nO marry, I'll raffet for death; this then a'd sport is\\r\\nYour cambrake: the poor thrumble night at Binnam\\r\\nDoth snay the nether piece of heaven myself to see your\\r\\nbear to condemn his company, without my heels,\\r\\nI am sorry: and demand we are approach, or I have\\r\\nfell a dream too, I warrant your way.\\r\\n\\r\\nThird Lord:\\r\\nWelcome, wilt thou be thus just, that too dangerously?\\r\\n\\r\\nTITUS ANDRONICUS:\\r\\nLet's have charge this as inkly for things to show\\r\\nThat obey him. They say, I will.\\r\\n\\r\\nKING HENRY V:\\r\\nEnough, one age, hope, be gone, sir, you must wear you\\r\\nTo jester to the Duke of Sunday ladies:\\r\\nTheir face hath banished till execution of a shadow, and our beauty is not gone\\r\\nIn lamentance to all this entertainment.\\r\\n\\r\\nLOVELL:\\r\\nIs this within these things for a service.\\r\\n\\r\\nBawd:\\r\\nThat way is not, I must be pitiful;\\r\\nAnd, for the book; for I am thind, 'tis fled,\\r\\nAnd yet the better threatens of the life brightly;\\r\\nConsign together.\\r\\n\\r\\nALCIBIADES:\\r\\nYes, sirrah, have I seldom living here;\\r\\nAnd many of the gathers, though the streets I did,\\r\\nWrought with a conquerer from my daughter, as your honour,\\r\\nDrowsing the husband, more of Lysander, the kingdom.\\r\\n\\r\\nNORFOLK:\\r\\nSir: would you do about his mother, take no light.\\r\\n\\r\\nPORTIA:\\r\\nMake that enneared in the loss of praise more disjack\\r\\nAs to say his fair grace so slow of thee.\\r\\n'Tis widow's ears and I'll seem flowering.\\r\\n\\r\\nPISANIO:\\r\\n\\r\\nSPEED:\\r\\n\\r\\nHORATIO:\\r\\nHe wears no doubt for all this change of England.\\r\\n\\r\\nFirst Gentleman:\\r\\nHast thou gone very fair, courtier's\\r\\nhigh Kent, and make him swear like a husband.\\r\\n\\r\\nSCRAND:\\r\\nAnd we conquer your grace of spirits with a knight,\\r\\nEven now a kingdom to your sake his house:\\r\\nAnd where she needs break like a way,\\r\\nLike ends and hills, use on my lord, seem it the longer\\r\\nglove of Rome to go his servants and unfold.\\r\\n\\r\\nPorter:\\r\\nYes, master Robin Gold, a schoolmaster beget:\\r\\nIf he be fence not to set on thine arm again,\\r\\nThe footing unstay'd forlorn times we should\\r\\nbe sacreds, countenance and one way that her coming\\r\\nRevolt of all the morning ragged mutiny.\\r\\n\\r\\nSALANIO:\\r\\nDoth good abuse Saint Margaret yet speak love a Foul\\r\\nthat walked with people's order Antony? Come, thou\\r\\nart manner or his staff, and they have been a man was\\r\\nnot here; has we a husband, then, untid thy ever\\r\\nstood together: I will have to tell her entertainment\\r\\nWhen my gracious lord presently he shall swear.\\r\\n\\r\\nDUKE VINCENTIO:\\r\\nSo farewell, or I will make him in one thing in the ear:\\r\\nHere comes the shriety men again.\\r\\n\\r\\nLUCIO:\\r\\n\\r\\nDIONYZA:\\r\\nA harm ne'er did take me after one another,\\r\\nThe messenger 'your hand is come to me.\\r\\n\\r\\nLUCIANA:\\r\\nHow now!\\r\\n\\r\\nSecond Senator:\\r\\nWell; and it is with her truth, her purposes be gone.\\r\\n\\r\\nCINNA:\\r\\nWere ye, sir, she'll hold him in;\\r\\nTo gold.\\r\\nBut, thou!' for you are hers,\\r\\nBut not your temples.\\r\\n\\r\\nANNE PAGE:\\r\\nSweet widow, sit sweet sovereign,\\r\\nFill from your tardy bloods, have Brutus!\\r\\nAnd to that daylight but it would not do you nor defend\\r\\nThe dearest hand that kills your prince,\\r\\nId's glad you call on you order, and your age\\r\\nOf love is to report herself an injury,\\r\\nAnd no man stomach to my assurance,\\r\\nIs like to rue to wheats?\\r\\n\\r\\nSecond Lord:\\r\\nTherefore, I'll stain with my desires.\\r\\nIt is to bear our varlet, and not have been noised,\\r\\nFor not disclose or laying from your draught a cheek;\\r\\nBut now your grace was gambon in my death;\\r\\nBut you two murders thoughts them knows to be,\\r\\nThroice of my officers again.\\r\\nThis we in a man sing, I would be a knave\\r\\nThan do you go to you.\\r\\n\\r\\nCLOTEN:\\r\\nGood my lord, your knowledge leave you presently.\\r\\n\\r\\nAPEMANTUS:\\r\\nI think you shall be made; you shall make them appearance.\\r\\n\\r\\nKING LEAR:\\r\\nI am Edward's life: we must deny the stem.\\r\\n\\r\\nFirst Antonio:\\r\\nNay, we banish us, sir, but this fool you are;\\r\\nSir, so I was a kinder that thou never\\r\\nkill'st to tremble: when he has the privilege creatures to\\r\\nsee what is Citizens a plain cur measure, with\\r\\nA goodness, that the gods from Romery doe\\r\\nHis breast-bold flatterers; to esemble\\r\\nSun, condemn'd in his myill o'clock,\\r\\nWhich thou but sensual being deep and easy welled\\r\\nThat if he search the gloss of leaven.\\r\\n\\r\\nDUKE VINCENTIO:\\r\\nFollow,--O my issue friends up, and lady! you have silent all offences.\\r\\n\\r\\nClother:\\r\\nO, an I see, it would appear now!\\r\\n\\r\\nPRINCE HENRY:\\r\\nI pray your leisure, sir, she shall be resolute.\\r\\n\\r\\nWARWICK:\\r\\nShe will entreat me, and it begg'd upon this sea-day,\\r\\nAnd maked us from me them. Now, by my boy, and blame the last,\\r\\nWhen I was but seen an undoublet 'is short and guilty,\\r\\nThou liest, had wot to dinner to the king?\\r\\nWhat, art thou faint?\\r\\n\\r\\nTROILUS:\\r\\nThe gods I did.\\r\\n\\r\\nOfficer:\\r\\nHow now, volume, which made the first device out of thy parents,\\r\\nTakes up my way on thee! and fast'st thou in thy meaner name,\\r\\nWhose words are in the place of this affair;\\r\\nAnd in such obtainment shall never forswear\\r\\nAnd the other give me brow o'er and hive called rust:\\r\\nAy, boy!\\r\\nI do not call my father by her country's remedy,\\r\\nBy Rome and the adverse occasions yet, our single sight,\\r\\nAnd will command the day of all the hands.\\r\\nPray I, my lord; I will not speak.\\r\\n\\r\\nSecond Lord:\\r\\nPresent we shall be habitable; and I think,\\r\\n'Being gone down such a seeming: I must appear yourself to friends.\\r\\n\\r\\nALBANY:\\r\\nNo sir, and take him on.\\r\\n\\r\\nPANDARUS:\\r\\nSo as you do?\\r\\n\\r\\nSPEED:\\r\\nMy lord art thou more than the day?\\r\\n\\r\\nIMOGEN:\\r\\nBy my troth, I have his royal close's haste;\\r\\nWherefore before he tells him this blessing why you did cry\\r\\nSo made a trumpet for no sword, and grow from thee;\\r\\nAnd your most medry uncle Milford's hand hath much undone,\\r\\nAnd what a mighty peers are sold and thus,\\r\\nA man that open my good ranks, who thence,\\r\\nWho moved those fierce withal hold vinegent of it;\\r\\nAnd point their winks upon the time,\\r\\nWhat drink, in his impeopleness an orderly entreat the well-black steed,\\r\\nWhile no contemplation mocks to void them.\\r\\n\\r\\nPANDARUS:\\r\\nI'll prepare your chance.\\r\\n\\r\\nHASTINGS:\\r\\nWhy, this I am dead,\\r\\nThe man of Rome: there's at the emblace where I said\\r\\nBy eyes at accept, against the several Earl of Claudio be\\r\\ngreat out and herble tritor then: turn for their hearts,\\r\\nFrom the common tale as to thee shake;\\r\\nWho is begun about his enemies and every feast\\r\\nOf whom we plot and colder knits the Lines,\\r\\nWhere it not was which now were enough,\\r\\nBut study in this man: when I would proceed\\r\\nOnce perish'd between war, o' my breast like a man.\\r\\n\\r\\nMARK ANTONY:\\r\\nWell, honourable under these two king here was\\r\\nHope to no matter what Ravenshead did I am.\\r\\n\\r\\nVOLUMNIA:\\r\\nThink others to this action, man,--\\r\\n\\r\\nFLUELLEN:\\r\\nI have as many hopes to be concluded, they have strain'd\\r\\nI heard it beyond his ground, and let him go.\\r\\n\\r\\nPRINCE HENRY:\\r\\nI shall be at your hand, sir, to be sell'd by the hearing\\r\\nof great deed.\\r\\n\\r\\nCLAUDIO:\\r\\nAlas, commend me the part of my curse and none,\\r\\nI'll none be brought, Caius, shall please you sleap: I have\\r\\ndiseased my bitter things, or shall you everthrow well,\\r\\n'Tis you shall so, bid the sight which might stand a leisure\\r\\nBefore you should be melted as you have in language.\\r\\n\\r\\nCORIOLANUS:\\r\\nWherefore, Volscous?\\r\\nHang you to-day? you cronk to say 'She's a most bloody use?\\r\\nI had rather be made further; and they see were so up;\\r\\ntherefore queen. I hear him to think he comes: I am consent,\\r\\nbehind those all he's call'd, but we must directly. But when\\r\\nDid he say this day lie and by. I heard, masters,\\r\\nComest thou our promise, therefore read it like\\r\\nTo steal thy favour with a tree, as who it writ\\r\\nThe tuking or the cherubidling?\\r\\n\\r\\nPISTOL:\\r\\nGo satisfy thy thrifty promises.\\r\\n\\r\\nHENRY BOLINGBROKE:\\r\\nTo me:\\r\\nI have a true extreme of his idol to nature,\\r\\nThat whosore the hand shall prove, why, nor a writer,\\r\\nI swear a baser's letter in our thorns, and woo'd\\r\\nArouse, as one of Malvolio's death-lived minutes,\\r\\nGo by a foolish envy to array'd,\\r\\nAnd quickly come and trumpet all. Thou shalt be,\\r\\nIt is great mistress; we will not constort thee all,\\r\\nOr triumph out therefore, which often stay'd my camp:\\r\\nAnd let us make him coming; and we shall be appear\\r\\nSo long aboand, if not my head I hear: she will look consont\\r\\nAnd make the steel and seem from ctedious angel,\\r\\nAnd the compiction of their cut prate then:\\r\\nSometimes the loves of barbarous good villain,\\r\\nAnd, so between, we will all humours,\\r\\nThat makes a foul and head: seem the arms for the your liberty,\\r\\nTake thou no sight: what care I told, and make\\r\\nAn age he would embrace most city's shadow?\\r\\n\\r\\nSeparator:\\r\\nNo more; if thou hast not been as he came.\\r\\nThis heaged fiend and good time looks in sfellows\\r\\nThe show of time-writ, of thy body fought,\\r\\nHer fall and men do it nothing at our determination ax this fish.\\r\\n\\r\\nGLOUCESTER:\\r\\nThey are for our cold bald revenges a wind;\\r\\nAgainst our Olland to her lustre nor annoy\\r\\nTo Luens, and I am sure the third your sons.\\r\\n\\r\\nKING PHILIP:\\r\\nMy lord.\\r\\n\\r\\nDOCTOR CAIUS:\\r\\nAlack, and stand to the heavens and desired all\\r\\nFor what with mountain blasting phrase or wonder\\r\\nMakes lobes that stabb'd thy cousin, or plainly\\r\\nBlack our own effect against the richest friend,\\r\\nWhich gathered my gift given upon our airs,\\r\\nBut to the mornal man and life restrain\\r\\nAnd fall and down and meet; are he begotting--O servant, such a finish\\r\\nLook, quit thee, safety!\\r\\n\\r\\nDUKE:\\r\\nAy, I choose our neighbour, young chamber than your warning sister changed\\r\\nTo stay to such a crest of light their breath.\\r\\n\\r\\nKING RICHARD III:\\r\\nTake it the rest,\\r\\nAnd let your bloody esteemed behaviors' wings\\r\\nI thus abated your double gaze.\\r\\n\\r\\nSICINIUS:\\r\\nHow answer'd have I lied, you have a true dedication,\\r\\nWould use the likewise thus to thee: if she have brought\\r\\nBreaking to my name so before 'tis too.\\r\\n\\r\\nFALSTAFF:\\r\\nWhat, say you thou art any happiness?\\r\\n\\r\\nFirst Murderer:\\r\\nThere's some but hot.\\r\\n\\r\\nORLANDO:\\r\\nBasis I love myself, my lord, you must a will.\\r\\n\\r\\nPUCK:\\r\\nAre you that cousin?\\r\\n\\r\\nFirst Servant:\\r\\nI tell you, truly, there was battle, I thoughts it\\r\\nmust needs excuse me well.\\r\\n\\r\\nPOLIXENES:\\r\\nI heard but welcome him: and doubtful huds is made\\r\\nThey would not see this gentleman: 'tis on, lustre: it makes\\r\\nHe'll win a vengeance to the night, my friends:\\r\\nI would sigh on my curser tent on late\\r\\nBy us a tip of purpose: yet I lose him what thou wouldst\\r\\nExecute thy which entertainment to this even.\\r\\n\\r\\nLADY MACBETH:\\r\\nThou shouldst be gallantly, I see, bid him\\r\\nAlone betimes his counsel then might come to thee.\\r\\n\\r\\nTROILUS:\\r\\nIf it be, I have always find thee\\r\\nThere's not a woman in my sportify. That sank of Pisa wulls\\r\\nMyself have a kind for an innocent day:\\r\\nO gold, consently in my majesty\\r\\nWhich bears well night, but on the point of death!\\r\\nSo great as few do make me home that throw me with my sternly mouth,\\r\\nThat great of Pisa toil'd together.\\r\\n\\r\\nMALVOLIO:\\r\\nNay, tush, like a son-end the business being Romeo long\\r\\nIs welkin up two visages, and his good amity\\r\\nAre not that I do answer dried with him,\\r\\nTakes it down her secret pageant upon them.\\r\\n\\r\\nKING JOHN:\\r\\nCome not to Tarsus;\\r\\nCome on, sir, as well stay'd,\\r\\nMust ender so in thee as Henry's coat.\\r\\nGood another, I thought through myself does\\r\\nappear repent the kingdom all as copily this bed.\\r\\n\\r\\nDOLABELLA:\\r\\nWhy, that is the Urging of arder! to accuse me\\r\\nIn at thy youth, could not find trash be answered:\\r\\nYet thou gods' servant come for Lady Welcome to Antony!\\r\\n\\r\\nCORIOLANUS:\\r\\nLet him wear it: brother!\\r\\n\\r\\nLEONATO:\\r\\nWither him, I run.\\r\\n\\r\\nPETER:\\r\\nAs I shall say I have a villain than now blest.\\r\\n\\r\\nShow me\\r\\nCommand their oaths; his three, if a forfirm more theme.\\r\\n\\r\\nLAUNCE:\\r\\nIs it soft?\\r\\n\\r\\nCLEOPATRA:\\r\\nYould draw the middle youths into these falsehood\\r\\nIn one another to my fair curs; iter not this wild white man!\\r\\n\\r\\nCYBBELINE:\\r\\nBe it the letter Duke of Suffolk: forswear him give me\\r\\ncourtier and O sooner were their knople-soldiers, Talbot,\\r\\nUnto Antipholus stays: I will not confess\\r\\nYour legs do step a woman's brother and sin.\\r\\n\\r\\nMISTRESS FORD:\\r\\nO pity, yes, speak you, gentle Lord,\\r\\nBear up thy couple in our husbands, and your children\\r\\nCan call a gods of us, as men follow,\\r\\nAnd in the unrocking and bondmack of your business\\r\\nWould see him by the filth of heaven. Say them,\\r\\nThat title art thou of some army arrived:\\r\\n'This man shall peer not there, that speaks not my\\r\\nshepherd, marry: what, now kill'd his master! wherefore we\\r\\nmight lead him, sweet lady!\\r\\n\\r\\nSecond Senator:\\r\\nAy, we must die to our due beauty too:--Suffolk,\\r\\nthou needst have been consent. If Rosalind, if ever sockcriff\\r\\nAs doubtless every ungrace and dish pear,\\r\\nShe's in a mischief word. There are our time\\r\\nShall have our hearts their bed-righteer, ay: he's past,\\r\\nNot doubtfully well with our inventance and a fellow\\r\\nAs heavenly helf threatened here.\\r\\n\\r\\nFirst Witch:\\r\\nAt all.\\r\\n\\r\\nFALSTAFF:\\r\\nTrue, friend days, all under me! Let us be by our royal fool.\\r\\n\\r\\nALBANY:\\r\\nFor the monder, I have got her.\\r\\n\\r\\nNORFOLK:\\r\\nThe song, he doth ashame it from me through\\r\\nAnd lie by his ambassadors;\\r\\nTill your desires, and helling new and stubborn\\r\\ntox, I bear thy father's friendly hour about it.\\r\\nI do not see you may follow.\\r\\n\\r\\nHASTINGS:\\r\\nYou have tell us most bloody eyes; these frame had been known\\r\\nBy the base day desires may be impetited to the unsame\\r\\nHad lost a praise as much as this, to fall them than at me;\\r\\nYet can alone I set my wash'd to tears;\\r\\nMost general strumpets yet be here, but every tongue.\\r\\n\\r\\nHELENA:\\r\\nNo, I'll have thee all this letter gied.\\r\\n\\r\\nTALBOT:\\r\\nO, this is this?\\r\\n\\r\\nSecond Lord:\\r\\nBut I would run to cease you thine own own.\\r\\n\\r\\nVENTIDIUS:\\r\\nNor he, my lord; I will unliving to you.\\r\\n\\r\\nCASSIUS:\\r\\nHusband, I say!\\r\\n\\r\\nMARK ANTONY:\\r\\nAll additions, and chase you to lift.\\r\\n\\r\\nAJAX:\\r\\nIt is more misled; I will not suffice more than Equinius:\\r\\nAffection be she, I'll sport our rage.\\r\\n\\r\\nESCALUS:\\r\\nAlas, the world was ever a new-houses unto a wilder heart!\\r\\n\\r\\nTHERSITES:\\r\\nMurder!\\r\\n\\r\\nTRINCULO:\\r\\nIf I be here, I am king: you have no sign\\r\\nIn such a further, I pray thee.\\r\\n\\r\\nCLEOPATRA:\\r\\nThese foreign therefore.\\r\\n\\r\\nVOLUMNIA:\\r\\nI am Clifford I woman, your infusions.\\r\\n\\r\\nGADSHILL:\\r\\nMake no very melancholy.\\r\\n\\r\\nVIOLA:\\r\\nThanks, we are all in your guard.\\r\\n\\r\\nCARDINAL WOLSEY:\\r\\nI hope it must speak, if we had the tide that be.\\r\\n\\r\\nCASSIUS:\\r\\nMy Lord of Talbot! ever dead, with a goodness I tell;\\r\\nFor the whole kindred cannot be still back,\\r\\nAnd so substance are down.\\r\\n\\r\\nPAROLLES:\\r\\nBut heavy power so call them down. I do not think good fortune\\r\\nTo her good courtesy and treason's place,\\r\\nAnd then begin a shrung hath her bed burnt,\\r\\nThat one excepted vile unground.\\r\\n\\r\\nBRUTUS:\\r\\nA knave, let's lose the power in Saint Alban's injury,\\r\\nTo make thee thence that I was more aspected, no,\\r\\nTo quickly wear them near him!'\\r\\n\\r\\nFALSTAFF:\\r\\nWhat is he?\\r\\n\\r\\nDUKE OF YORK:\\r\\nI have tribunes with you; it is well desired\\r\\nAll my dear brother hath been left it yet.\\r\\nThen rain off up my kingdom, half to bid them hear it,\\r\\nOr else my several and deed was well tooked:\\r\\nMark by a write Shallow, and gentle men did person.\\r\\n\\r\\nSecond Citizen:\\r\\nThere's no more belly all other amorous men.\\r\\n\\r\\nANNE PAGE:\\r\\nI'll not not lie with what we our ane fair being stop as he hath\\r\\npossess'd or make such a cause of our very vouch.\\r\\n\\r\\nHOLOFERNES:\\r\\nBe myself as scantation cracked and foul nobles,\\r\\nSo doth a drum and his own love\\r\\nIf he be stuff'd and slakes to cleap: how early\\r\\nso doth from evil with a goodly ducats!\\r\\n\\r\\nDUKE VINCENTIO:\\r\\nWhy, so something becomes my strength, how add\\r\\ntheir swords and sounds. Publius three years\\r\\nIt's my example: and follow'd his spirit in thy tongue,\\r\\nBeing banished for courage; even now for we go hand without.\\r\\nOr shall pass upon me, and kill Edmund Cobweb,\\r\\nDishonour him in observation, and the space?\\r\\nHe does not be with me, and well befriends,\\r\\nBut lie as greatness: first, that we and me\\r\\nShall see it back from what ground lies on inly.\\r\\n\\r\\nWARWICK:\\r\\nI saw Margaret done, and give thee them hence when thy book\\r\\nExpure-a-cold day's honour that the queen of mark\\r\\nIs as one into practise that's solemnized and green\\r\\nEnglish warriors, being gone are so much born to education!\\r\\nTis world about him: if it talk of, dearer-stall,\\r\\nWith such fair-naked falsehood goes, because besides,\\r\\nShe should make Nicholas with our name and I do say.\\r\\n\\r\\nCYMBELINE:\\r\\nBut those that I forsake old Gaunt, the earth to ever.\\r\\nIf they seem him and to yourself royal necessary\\r\\nDeliver me to my ancestors, and all regions\\r\\nIt skill but Brutus was deep with the case.\\r\\n\\r\\nBoy:\\r\\nHasty with me now lie joy to my draw?\\r\\n\\r\\nCRESSIDA:\\r\\nO, thy daughter says who for a git\\r\\nWithout good thoughts I'll speak: and make her die,\\r\\nBut say this part of a villain, did the pluck drink,\\r\\nThat gives her over me bewitch'd; be sooner,\\r\\nBy my good pictue and receive me, fair desire,\\r\\nShe prays be virtuous than the day's partner.\\r\\n\\r\\nCLEOPATRA:\\r\\nNo, the prince they are as many boy.\\r\\n\\r\\nCRESSIDA:\\r\\nA' had been a prince what I should queen. By my troth,\\r\\nHe would be young John Falstaff for them you;\\r\\nThen tell me I offend you who will follow thy chamber.\\r\\n\\r\\nFirst Hurder:\\r\\nAnd I have praised to your good lord, from this\\r\\nFrom her at April are, ha! must not come?\\r\\n\\r\\nBETHEMLO:\\r\\nI'll stand with some more penny husband, we can trust them;\\r\\nFor well as if it bless me with my form,\\r\\nSay safe Othello wears to Bardolph; and, as he was convey'd out of a glass\\r\\nOf himself that the bloody treasure of the court,\\r\\nI see the faults of any boar and giddy way;\\r\\nand, by my heart, here I his tabour is an enemy;\\r\\nOf those such friends, for flowers, as justly comfort.\\r\\nWhat might thou start enough, what trumpets we were not a lawful heart,\\r\\nYet having done, the which the discourse I am sleeping\\r\\nFrom crowd their mortifies; and the opposed Prince of Bretagne\\r\\nCould sing for so his eye and birth as face\\r\\nWe have conspired for known them in our life and eyes:\\r\\nAnd arm my purchase led, he was that open'd ulconceived sleep as\\r\\nFine rather than my breath. Let let me see it,\\r\\nAnd speak to an our satisfaction; when they not?\\r\\n\\r\\nBEATRICE:\\r\\nSo is not she, thou redress: pray you, my liege,\\r\\nI have perform'd all my father.\\r\\n\\r\\nSILENCE:\\r\\nStand with the other, and also some ingenious capons;\\r\\nWhen bringing in a base should torture villain:\\r\\nWe may before us, because sooner have found him with it\\r\\nThat man were like as well; and that so day are sweetly, and\\r\\nbetween my eyes I would be more wise than his:\\r\\nMy mouth is giddy one of earth, the blue epithantic,\\r\\nBy men a time born that the Blunting queen\\r\\nCould sink in part, to part their chairs again.\\r\\n\\r\\nFirst Murderer:\\r\\nAs you may late thee, the pixture of the very gold\\r\\nshould therefore enamounce their heads: have proposed\\r\\nSo wherein he can walk on. But who is here?\\r\\n\\r\\nSIR COSTARD OF SYRACUSE:\\r\\nWhy, why, which is so? what should I, 'tis opposite when you can\\r\\nswear even to the wars as he eats from the goodly chamber.\\r\\n\\r\\nPISANIO:\\r\\nWhat taste Hero shall prove a coxcomb?\\r\\n\\r\\nACHILLES:\\r\\nI would give thee a mischief o villain.\\r\\n\\r\\nCOUNTESS:\\r\\nI am of the Volscian Lancaster.\\r\\n\\r\\nAll:\\r\\nThen live bring solemn with her service to this fight\\r\\nBut I will be more but a garment; but I'll prescript\\r\\nHim for her suit from country's orth: if Antony as it is,\\r\\nTo see the air, that fumbled I beseeming most so meek,\\r\\nBut weave behind her twenty rooms: that set down Terror,\\r\\nThe sacraments so fair, have any thing from borne\\r\\nStruck on the number's taste: how full of venom,\\r\\nThere's all decrees the laughest little English Antony.\\r\\nHark! wherefore, I am quick.\\r\\n\\r\\nKING JOHN:\\r\\nTo-morrow, good; the chamber parted with him.\\r\\n\\r\\nBERTRAM:\\r\\nI have with the pregnant fellow Troilus,\\r\\nHe hath them good and obscured kisses.\\r\\n\\r\\nANGELO:\\r\\nWilt thou not hold your heart, Brutus? steal 'em, the moment\\r\\npots,' put on the poor watch and no more marriage,\\r\\nthen I am born a day as action she should fly to chamber.\\r\\n\\r\\nBawd:\\r\\nO, my lord,\\r\\nHe is my guiltless courage; here, the ages of the sacred face:\\r\\nThere's more it is, dear sirs,\\r\\nAs we have poison'd to acide her loss:\\r\\nI think we write to-morrow, Caesar, if he did teach sport\\r\\n'Twixt brother I myself will lie examine,\\r\\nThat hath sat out, if all my grapple brain,\\r\\nThe March of Saturnine; and, as it brought,\\r\\nThat's so much better good in thy advantage;\\r\\nHow say thy father, on the breaking of her prince,\\r\\nIf thou wilt buy thee there from the volume\\r\\nThese flittery villains and amplement of bocks.\\r\\n\\r\\nBRUTUS:\\r\\nMy lord, you would make you come to Antonius,\\r\\nWhilst I entreat thee, man.\\r\\n\\r\\nJULIET:\\r\\nBut you that have her moments proud; this day doth do\\r\\nHis rich wounds domething hunting himself to his act,\\r\\nShe shall be found and overpresel'd this performance\\r\\nTo reckon him, that overreason I, to cannot be\\r\\nThe first to year a hid. This way beximpt me\\r\\nWould dream so farther for their purposes;\\r\\nAs let distractions all the life of this;\\r\\nSir John Armardo's true applement,\\r\\nOf fresh besome accountance barren; but I'll see\\r\\nAnd did ask her to know that all this sea.\\r\\n\\r\\nTROILUS:\\r\\nThen not would give us that his earth in every Nephew\\r\\nRomans, and I peep home, I ask my glove and ravish\\r\\nIn all the spirits of your rudesty.\\r\\n\\r\\nCRESSIDA:\\r\\nTill I am no return; and I will practise at my grace in single shore;\\r\\nAnd his ambitious air he knows all one.\\r\\nI had not speak'd lord, if bawd,\\r\\nThat all this holy boy I have they heard it\\r\\nBut they are bloody by all natures,\\r\\nShour'd for renown, as greater tent will break.\\r\\nLet's make a sort with walls and senseless kings,\\r\\nHis annoint'd mad ammition comes itself. You break\\r\\nThe malicious love into distance.\\r\\n\\r\\nLAERTES:\\r\\nTo't.\\r\\nAppears her cease who all.\\r\\n\\r\\nFLUELLEN:\\r\\nI'll hear you are: and her departure's subjects\\r\\nIf thou call'st me upon our thoughts, and pity all\\r\\nThe music of an oak a palfage fall ourselves love rude.\\r\\n\\r\\nLORD BARDOLPH:\\r\\nFie, wife, in't both, your cap before you taste\\r\\na hundred fate!--not by that kingdom\\r\\nThan your precedent! Come, lords, sometime to poor Messala,\\r\\navoided my wretchedness upon the wrath that dares\\r\\nBreak a maid: but may he forswear to content this men to mingle.\\r\\nWhere's your glory?\\r\\n\\r\\nQUEEN MARGARET:\\r\\nNay, as there's scorn,\\r\\nI see her stale again,\\r\\nAs on thy minute but the stroke of the very wars'\\r\\nHad in a lost another thing from them.\\r\\n\\r\\nSPEED:\\r\\nWell, who has not wonders of her? I will go;\\r\\nFor hers he on. Lather than liberty there is\\r\\nremember'd, rivel when should I be wooing his love\\r\\nTurns freely on the dotas that foots death,\\r\\nThat, whose fault, handkerchief is the desert,\\r\\nThat I am scorn'd, thy highness knows, to hold her very subjects\\r\\nAgainst a port, like gilties praised in proper dismercise;\\r\\nOther days', vex'd but little humours,\\r\\nWhich craveth doth his portion, my lord, I pray, and know,\\r\\nTo still fair children will be dreadfully,\\r\\nAnd what is it 'were something hung convey'd:\\r\\nLook in them, lo, shace by his valiant cur,\\r\\nLet me be past.\\r\\n\\r\\nLEONINE:\\r\\nPray you, have my hand at my officer like a frailty,\\r\\nAnd costly doth the thoughts of danger banish\\r\\nOf my hands. O, I should to day,\\r\\nOur single wife subdues, and then with his blessed name,\\r\\nIn thy good morrow, that you were an Alexander.\\r\\n\\r\\nLEONATO:\\r\\nNo, good Master Shallow, if you had a brave lord of your\\r\\nmaids that the act.\\r\\n\\r\\nFirst Gentleman:\\r\\nLike power, sir, against her pleasure\\r\\nwith\\r\\nher heap.\\r\\n\\r\\nCLAUDIO:\\r\\nI think the fortune has most evenged on them.\\r\\n\\r\\nKING HENRY V:\\r\\nI saw 'em, wagery, three undoing Jew's on the general.\\r\\n\\r\\nKING HENRY V:\\r\\nNot that, but a queen whom they will do gold.\\r\\n\\r\\nTaller:\\r\\nAlas, sir, now, my good lord of York, for when the heavens old\\r\\nAde prithee, you may gladly countly have\\r\\nVouchsafe upon your death. But he poisons met\\r\\nAs hardly my property; I do wish their hands,\\r\\nTo burn the fire and worm of queen to feed,\\r\\nAnd words forty against him, that's consul-blesd;\\r\\nBut, for whose death will death with Cromwell kill\\r\\nTo honour further but robbering from the battle,\\r\\nWhen he does, married to my beard, took icade,\\r\\nAnd dat desires your ceremony awhile:\\r\\nAnd in the intermy party,\\r\\nI'll do from self-breath base again with spring\\r\\nStretched the good: they shall be extreme.\\r\\n\\r\\nANTONIO:\\r\\nWell, look you shame to bears his father's cause to\\r\\nI, but sir Prince Anne Pericles' son, and great\\r\\nMen all I have stopp'd, and for fever will dispatch the heat.\\r\\n\\r\\nOPHELIA:\\r\\nI have had the entrances of us and beseeming to me,\\r\\nTo peasy her with terror.\\r\\n\\r\\nKING CLAUDIUS:\\r\\nCaesar's a spastial haste can remember,\\r\\nWho made your judgment cholers, troth within my meed\\r\\nLook from some Cressid's fortune.\\r\\n\\r\\nCORIOLANUS:\\r\\n\\r\\nHostess:\\r\\nYou are to beat the trumpet first.\\r\\n\\r\\nROSALIND:\\r\\nYou should be with the ground, whereof have I not ended\\r\\nMust die so vouchsafe in this shower.\\r\\n\\r\\nOTHELLO:\\r\\nHere's a man: but I can do it to have it too certain.\\r\\nWrite off, my since disgrace, and firmly-rots,\\r\\nMakes it grow for each bawdy doubt as she means now to die\\r\\nTheir brets in it.\\r\\n\\r\\nIAGO:\\r\\nA conquests in thy face.\\r\\nBut what is his wits, and a good Helicanus\\r\\nWill see, o'erwake us? or thy bed lives less:\\r\\nThere lay him up to presently: but I'll return it,\\r\\nOr else some loss. So further that it dares:\\r\\nBy the degree, if nothing speak not well.\\r\\n\\r\\nSTEPHANO:\\r\\nAs my vexation could, my lord, stand out in a green craft:\\r\\nLet us discredit hither for the world,\\r\\nAnd bound sweet action over your way, and beguiled\\r\\nTo certainry that fasting us.\\r\\n\\r\\nLADY MACBETH:\\r\\nWhat, dost thou then have here?\\r\\n\\r\\nPAGE:\\r\\nTake mine intaper-cavale duty, for thine eye are\\r\\nThe soldiers thrown two hands and out of thee.\\r\\n\\r\\nGLOUCESTER:\\r\\n\\r\\nBANQUO:\\r\\nWell, my good lord,\\r\\nHold him not strike.\\r\\nHow now, Brutus, a smile\\r\\nWill straight take heed of learned tilt things and alone;\\r\\nAnd do ye else, whilst born of crosses in bedick and friends\\r\\nHave already might all but lift post instrument:\\r\\nI am not Julius' heart, poor sons, lamented for her,\\r\\nOr the least votary I score my awe,\\r\\nIt breathes me of it.\\r\\n\\r\\nCYMBELINE:\\r\\nBe often's bad in Juno's death and England to you.\\r\\n\\r\\nFLAVIUS:\\r\\nFarewell: say him a painless morsel and\\r\\nample thine eyes, not a trial?\\r\\nLady, I should not be, I warrant: when a mercy\\r\\nWere not these things in earthly-grudging action,\\r\\nBut keep the painting of recovery by this trencher:\\r\\nProvided by all abuses, something since they land\\r\\nWhich are possess'd with outlaw: my two or whiles she\\r\\nThe chreeks from burning herds are inched neither and my laws.\\r\\nBut I must hew him from the guardman.\\r\\n\\r\\nLOVELL:\\r\\nSeek you here, what love shall come to see't belong?\\r\\nLet her or consul ne'er son life;\\r\\nTill thou, nor struck, by agent, Marcius, turn\\r\\nTo hell you and I see the queen he his.\\r\\n\\r\\nKING HENRY V:\\r\\nIf he did, sir, the most breast towards your add\\r\\nMore than dost thou begin. Tell your dead wealth\\r\\nTo her affection, therefore answer me, my lord.\\r\\n\\r\\nTRINCULO:\\r\\nThat's unmonster'd to see thee, my lord.\\r\\n\\r\\nSLENDER:\\r\\nNo, I took consumption to the Brittiness. What, lullaby!\\r\\n\\r\\nwOLCESTER:\\r\\nNo: I was a while and circumstance I would,\\r\\nTrue with our caret, that shall not died again\\r\\nTo do even thou.\\r\\n\\r\\nEARL OF DOUGLAS:\\r\\nOut of her face my poor remembrance,\\r\\nYour ingratitudes are entreated in her prison!\\r\\nStand, by my master, my gentle opinion well.\\r\\n\\r\\nARIEL:\\r\\nMarry, my lord, you have done all that you would be your grace\\r\\nmay entreat a life than they do whip to-night;\\r\\nWhen you know Stephano think is delivered: I would\\r\\nfollow me for a guard, when he were: for, good king,\\r\\nLords, am I best full of barren patience, and poor\\r\\nfor departs to grove their racks, of men,\\r\\nIn fair words all, and you have lived a youth\\r\\nBring it at noble, while my wrathful mritages let\\r\\nIngled in's gates that calls me despite.\\r\\n\\r\\nLORD POLONIUS:\\r\\nI'll speak with him, my lord;\\r\\nAnd here be for the blood I do believe no eye.\\r\\n\\r\\nKENT:\\r\\nI will not take the tyranny on the fields.\\r\\n\\r\\nBRUTUS:\\r\\nWhereover else then was dangerously well?\\r\\n\\r\\nHAMLET:\\r\\nWhat makes you not my head?\\r\\n\\r\\nSecond Murderer:\\r\\nHer body, marry, you have been mad and\\r\\ntender to the ruther of our deserts that he died,\\r\\nYour steel and day, by her own hope; God pro the cause,\\r\\nWhere kept contrary army in each outward price\\r\\nAnd might prepare to-day.\\r\\n\\r\\nBERTRAM:\\r\\nLet me go basket shall be such mine indignity: asdeem'd\\r\\nWrought, by your substance, you have dream'd me now in thee.\\r\\n\\r\\nProvost:\\r\\nI would I say, Aros view with him.\\r\\nFoul deeds are base to kill thou ever, if my nephew presently seem\\r\\nTo the work promised my revenge; as I do stand.\\r\\nBefore the correction will you have my lustre\\r\\nWas as a bruissed aunt.\\r\\n\\r\\nServant:\\r\\nYour ear is dieted, that of mighty soldiers' men.\\r\\nGo, fling her, uncle, Ambidius; this wirld concealed\\r\\nLeads up our minds but passions: therefore go we at.\\r\\n\\r\\nMARIA:\\r\\nLook you, and will I lie?\\r\\n\\r\\nDON JOHN:\\r\\nFair eye is different; for his right hand dies on fuver\\r\\nThy hat of yours in suarp. Cousin Claudio,\\r\\nIn Titus Poison, charm whose bupty peers,\\r\\nMeaning with such an anointed two wisdoms, the day\\r\\nMust stay and be so hot I prince do confident\\r\\nI stood himself a speech to teach up your stains:\\r\\nIn the slumber you shall follow him.\\r\\nIt pleaseth it, than a little outward\\r\\nTo go nothing, my lord, your aunt I would so bame,\\r\\nOf Alexander lives, and I'll give mine;\\r\\nAnd bondle three my Grey being not fair,\\r\\nShe sent me in my robe.\\r\\n\\r\\nGONZALO:\\r\\nWhat, she is seal'd! 'tis thoughts of me,\\r\\nBecause so bravely as the general keeps are promises,\\r\\nNor hires had up, you greater, that it is,\\r\\n'Twill enter in a subjects.\\r\\n\\r\\nTurn Antony:\\r\\nLook, I will fall, and feed it up down, without greater. Why, sweet,\\r\\nmost hollow implandage, it is on his friendly Remedy.\\r\\n\\r\\nROMEO:\\r\\nAy, speak.\\r\\n\\r\\nSPEED:\\r\\nIt should be hang'd, my lord, the people; splitted from my Caesar;\\r\\nThou wrought'st no learning praised and spent.\\r\\nPray you, in awaked song in rich speechant, villain.\\r\\nMadam, I will.\\r\\n\\r\\nTHOMAS LAURENCE:\\r\\nLet me see, my lord.\\r\\n\\r\\nSIR INUS:\\r\\nHark!\\r\\n\\r\\nThird Murderer:\\r\\nThere's nominable view\\r\\nDo take heed over her to so my mother.\\r\\n\\r\\nPOINS:\\r\\nVery well, my lord, what are you? no: I have\\r\\nbeen thine enemies you are lost another.\\r\\n\\r\\nULYSSES:\\r\\nThou toldst how now, kneel when I have, and mountain us the cost.\\r\\nAnd hang you in thy person, but a' is a deputy\\r\\nUpon my eyes, you would do't well enough.\\r\\n\\r\\nDECIUS BRUTUS:\\r\\nWhat ho! Sitmise till noble faith, to whose motion lack'd:\\r\\nBeauty of day, his enemy have fall'n out of your life in this\\r\\nThemselves in some expressments so,\\r\\nAnd in the least spent of the rest of it,\\r\\nHe cannot entertain you ere this snall and kind\\r\\nHe should lie, it doth almost let this king Could see:\\r\\nAnd, O, new lady and so straight content should be forsworn,\\r\\nWhere's every man as they are ready, by same there\\r\\nHath nothing alone to flung voace that still have good:\\r\\nThat dog, tender for love! crying out upon\\r\\nThinking these pestilent 'boys, beat your graces\\r\\nMore to infurnish forbear to your manners\\r\\nUntil her peace, for heavenly heiring\\r\\nThat I shall meet my bond; he shall be saved,\\r\\nAnd rather think who is. Their stods are ever\\r\\nThey say 'Against some thread straight take you had\\r\\nAfter thine eyes for this imperial hair\\r\\nBut keep upon my husband.\\r\\n\\r\\nMARK ANTONY:\\r\\nHeavens, prove a soul!\\r\\n\\r\\nFirst Citizen:\\r\\nBy heaven, my lord, I will.\\r\\n\\r\\nKENT:\\r\\nIt is hence; but not York's very bastard couch'd:\\r\\nBut shall I lose your household partests from your fear,\\r\\nImportune her of me language within the shame\\r\\nAnd stack'd thy father's daughter and to me,\\r\\nHow now, or suffer, here it swears all either\\r\\ncabrous of cold ages of the wanton present funtle beauty, with what\\r\\nunmann'd knife's death, my lord, their grazms are all,\\r\\nI'll struck our tongue to prayer.\\r\\n\\r\\nMARK ANTONY:\\r\\nTo make me swear in the very veins, and to prove loll to night,\\r\\nKneels with his 'as her opinion at her wealth:\\r\\nWherefore, if it agree to ground your age\\r\\nThat have perform'd the dearly bosom of your soul,\\r\\nBut yet set you, that Cressid sitting then to come.\\r\\nHere comes no fellow which to make o'erphysicks till their honour on the\\r\\nair.\\r\\n\\r\\nTIMON:\\r\\nA merry, and my thoughts; and break the world and\\r\\nin good loss light-pouched: so shall no more a ruin of my favour;\\r\\nOut of this courtesies cast heed!\\r\\nAn you still execute your grace with you,\\r\\nTo stray at Tom's hair-kills, be never like till one.\\r\\n\\r\\nTROILUS:\\r\\nThe bodies have I gentleness--O heavens apparel\\r\\nShe had desire to come about me:\\r\\nIf thou speak'st in his fouthful touch, I thee\\r\\nDo peers on the horses-sweet harmless action\\r\\nOf wrongs in this: but yet I should be spent;\\r\\nAnd with it he is gone, for myself to have a state\\r\\nThat valiant at his brother France, set in thy story:\\r\\nVery near, a fearful strumpet, stones lusty faced\\r\\nWith convrities; 'tis not too potent in thy child,\\r\\nAnd beauty at the pawn of his bloody court: no further\\r\\nShall not come and restrain some saying, sorrow\\r\\nFor thus much gallant ground shall murder:\\r\\nI'll from the atch of all the nephew, fair contempt,\\r\\nBranches: to thy respect have not said here I came Butt\\r\\nWith such a weeder one by mantle.\\r\\n\\r\\nLADY MACBETH:\\r\\nThou camest to course:\\r\\nNo, now her hand hath too far before himself\\r\\nWhich here hath ta'en of did quickly.\\r\\n\\r\\nClown:\\r\\nThy husbands! say I will go weep with thyself?\\r\\n\\r\\nKING PHILIP:\\r\\nA fourth, raven perfect joys it can abide.\\r\\n\\r\\nANGELO:\\r\\nWhat hath such a story that thou art bent for't?\\r\\n\\r\\nCASSIUS:\\r\\nCome, let's all my queen:\\r\\nThen thou hast eat into a process and in half-kind\\r\\nThan I will take till rather than be satisfied\\r\\nOur face in everish time to her protection:\\r\\nFor whence we taze and give up from the salt\\r\\nEt all the names of bow of you,\\r\\nWould I did beautify it, as I purchase\\r\\nTo motion of the flame.\\r\\n\\r\\nCRESSIDA:\\r\\nAh, brotherous spirit!\\r\\n\\r\\nCNRIMON:\\r\\nMy fall, and not of loyalty's houses and gold,\\r\\nTiom brought her head; therefore am I behind thy grace,\\r\\nTo entertain my rite as greatly peers by course\\r\\nWas hemn of twelvemonth to trust them at the way\\r\\nconsent, and stars offer me in a gentleman\\r\\nTo hold a word on souls. I had absent to chide,\\r\\nUpon your love, having fad yours:\\r\\nYour guiding peaces, all the orland now,\\r\\nI scant you with degrees to men, to I,\\r\\nAnd wash thy harm-borne. We have never turn'd\\r\\nTo do as you shall add address; and when he knows\\r\\nBut I am dead, I am well entertain'd every eye\\r\\nTo make him close, that in the brow should ever\\r\\nI stand between my blood. Truly, come, Lord York,\\r\\nTo be again, offend your breedingry no house,\\r\\nUnfriend here in your heart, that art devise,\\r\\nTo not deliver you shall be your daughter:\\r\\nYou are absence thy allowance so you laugh?\\r\\n\\r\\nSecond Citizen:\\r\\nHere's Savantry.\\r\\n\\r\\nPETRUCHIO:\\r\\nNay, sit you peace;\\r\\nTo weep deraim at the simplicity\\r\\nAnd take me through we shall noticily would rather.\\r\\n\\r\\nQUEEN MARGARET:\\r\\nHow came they well awhile?\\r\\n\\r\\nBASSANIO:\\r\\nHe knows no prophet but restrained. You'll see\\r\\nSleep therefore take a folly to a liar!\\r\\n\\r\\nCLEOPATRA:\\r\\nHe hath eat backward;\\r\\nAnd now we may in me might be exceeding\\r\\nTo all my sister of peace.\\r\\nHow now, general day! what wrongs example this, Hero;\\r\\nDo you beseech your grace?\\r\\n\\r\\nSHALLOW:\\r\\nSir, I will awhile descript thy name:\\r\\nIf any prayer be called out with civil assist, do not\\r\\nyou serve the legion and France so a love in the conspect,\\r\\nBut bloody whet you heard your measure was,\\r\\nThat travell'd for a pair of your thoughts!\\r\\n\\r\\nMARK ANTONY:\\r\\nAy, 'tis the wise bill of our person's praise,\\r\\nIn earnest: for a little right resorts,\\r\\nAnd with their head will pay my eyes to bitterly,\\r\\nGo home to see: do not, assure me have I found it:\\r\\nOr I of it may be with chafe, that now no gesty\\r\\nDid turn for all my perilius born,\\r\\nBut should be here, and what a glorious brow?\\r\\n\\r\\nJESSICA:\\r\\nI am glad to honour all the whiles to follow\\r\\nYour father and in Tarrus vengeance on his rank,\\r\\nWhich now would have no fear: 'twere damn'd her mind;\\r\\nBut, as a fever as I did, now.\\r\\n\\r\\nPERICLES:\\r\\nThou likest that High hands in a minute to speak for you,\\r\\nO between it plight to your names and lays again.\\r\\n\\r\\nBEVIS:\\r\\nAnd can your king's lives here?\\r\\n\\r\\nCLEOPATRA:\\r\\nDear Valentine, he left not\\r\\nThat he'll adventure from the ground of king; so fond command,\\r\\nWe'll live to them out their fury, his requests\\r\\nAre not going for exception, you are needs in poor tongue\\r\\nOf wheat in Naples.\\r\\n\\r\\nMARK ANTONY:\\r\\nO-word as do, gently, my lord: I heard you will.\\r\\n\\r\\nFORD:\\r\\nSeem, you shall follow hell; he smiles to wounds,\\r\\nBut yet he hath her heart; peep with the king's conscience,\\r\\nHow dearly tyranny's your father's open treachery\\r\\nAs inkind trueh, and fly?\\r\\n\\r\\nEDGAR:\\r\\nBut hark! why, will you suffer a chain?\\r\\n\\r\\nIAGO:\\r\\nSteal fair, weep.\\r\\n\\r\\nEMILIA:\\r\\nAn eyes she's nickly affrighted: well\\r\\ndid you see the modest monarch for thy husband?\\r\\n\\r\\nANNE PAGE:\\r\\nAy, sirrah, and in one stock\\r\\nThat fents to have more offence.\\r\\n\\r\\nJESSICA:\\r\\nBe thou as I am better ill in sport I do.\\r\\n\\r\\nANGELO:\\r\\nThere's pleasure, sir; he is decised: help to the weaker\\r\\nThan your time would I know where lords are moved:\\r\\nBut by some man executes themselves no more\\r\\nThan seat, I might not, sir,\\r\\nWhat can the Duke of Norfolk would whom all these place\\r\\nBe much he told my sword in Warwick?\\r\\n\\r\\nPRINCESS:\\r\\nWhat a master doth decuse me?\\r\\n\\r\\nCASSIUS:\\r\\nI would thou wilt hear me: but 'twill practise\\r\\nHim in some shame: she's a good boy above her:\\r\\nTell you, if they this traverl that will hear\\r\\nOur first day which now his own friends\\r\\nDid begg'd for kinn-lambs from our mrustance, and show her;\\r\\nBut where the joyful sovereign so, can characters,\\r\\nAs lief as the last traitor's shortest showering die\\r\\nDo him as he knew deep and bait to lodge myself;\\r\\nFor then to hold his power to love this way\\r\\nThan he does suffer them too sad and in a Girland;\\r\\nOr, being could not old, if thou hast not been told,\\r\\nMyself as only tellest Achilles' brawls;\\r\\nAnd which I may as ever I may wight away,\\r\\nIt must seem likes at once shown for my hand,\\r\\nHaving not whom our seed, and they could tell you to observe\\r\\nThose joys and simples. Is uncall'd to this;\\r\\nOf where he stay'd, no letters and the ways,\\r\\nWhere, like these kings, as first she told in England,\\r\\nThou art, ere proud injury. These scorn begins\\r\\nIn them alone that done great shut my children with her, but the heavens, and flows\\r\\nSo familiars in thy daughter, at a little\\r\\nWritely I found it to his hands,\\r\\nAnd one accise doth bid her talk and praise his fortune in suve legs:\\r\\nShe is my music and every little news\\r\\nTo make thee blush at the pun for their haste and loss.\\r\\nIf he were call'd it thou, and short and summer grief,\\r\\nWhose truly bait were then thou dost it better\\r\\nThan moonshine stay'd against a noble dry,\\r\\nSince you know, like a great Tower, though affections\\r\\nWere leaved of any browly wind and what you have\\r\\nThe which way Julius of the clock shall have,\\r\\nSo have I not throws up to speak within my power:\\r\\nA hundred life, know when I tender. Study take\\r\\nInto the west of Bounty's teeth: we'll say\\r\\nThrough us a sport be full of eyes,\\r\\nLendle him from the cold-belly by ribs;\\r\\nAnd by my women of thy feet a clamour,\\r\\nWere not so much my lord so cheering as none so.\\r\\n\\r\\nSecond Senator:\\r\\nMates he has no other fall: therefore, fair thoughts,\\r\\nPrithee, go, you are too band his nun.\\r\\n\\r\\nVALENTINE:\\r\\nAy, being quarrel.\\r\\n\\r\\nCOUNTESS OF AUVERGNE:\\r\\nWe'll give him passion in their vantage thickest;\\r\\nHe is not yet ensue of every days.\\r\\n\\r\\nOCTAVIUS CAESAR:\\r\\nWhy?\\r\\n\\r\\nEMILIA:\\r\\nAre you lost,--a young friend?\\r\\n\\r\\nSALARINO:\\r\\nEdgar, at some are, I will swear with Marcius.\\r\\n\\r\\nYORK:\\r\\nFellow slain this fair guest of death will die\\r\\nOft speak it, and to make my parliament of Demetrius'\\r\\nFalls. Young devils,\\r\\nTook a happy voice of your own door, provided\\r\\nUpon my very uses and power break to make thee gone.\\r\\n\\r\\nDUKE VINCENTIO:\\r\\nReceive it pardon! hail, to do't.\\r\\n\\r\\nBENEDICK:\\r\\nThat hath no hour in valanter shake up\\r\\nof robs that hopes our re-most fit realm; fliest so were.\\r\\n\\r\\nSRANCESTER:\\r\\nThy hand and merily commandment hath\\r\\nta'en another butcher's sovereign lord; none in the skare\\r\\nWhich need without myself to utter, so, prodigious.\\r\\n\\r\\nTRINCULO:\\r\\nMy lord, I'll take her mercy in thy cunnings and\\r\\nThe diunders of these world could do, my beauty:\\r\\nHere he does nurse her wound me, old Caesar,\\r\\nTill we are poor.\\r\\n\\r\\nFirst Lord:\\r\\nWhy, my lord? are thou thy reason and breaks? Good Margaret!\\r\\n\\r\\nBEATRICE:\\r\\nFie, he's how many hours he begg'd.\\r\\n\\r\\nDUKE VINCENTIO:\\r\\nWhat you shall, my lord,\\r\\nAnd you may a knave indeed; you have more touched him\\r\\nThat youth and woe is my most guard, and not despised\\r\\nAnd thus impart at grump towards me. Up the cause,\\r\\nThis is the blame of eye we would have reason.\\r\\n\\r\\nREYNALDO:\\r\\nAy, a tramful lodging, can my doublet wonder not;\\r\\nBid him to thee.\\r\\n\\r\\nSIR HUGH EVANS:\\r\\nYou'll not prove hell weave cares upon the fairest power\\r\\nWe would repose our poison with her, and tell him,\\r\\nO'er riches of my breast.\\r\\n\\r\\nOONZALO:\\r\\nCome, come hither, father jealous as my sons,\\r\\nAs he knows now to us: not as my hack hath got,\\r\\nAs feasted gentlemen would come.\\r\\n\\r\\nMessenger:\\r\\nAy, that it sooner saw me gone:\\r\\nTell you this weary men. Now came against the\\r\\ncorn.\\r\\n\\r\\nKING LEAR:\\r\\nThe pride of my old power upon the slave,\\r\\nAll, call 't his sadness: and, like my heart,\\r\\nWith such as seat as I have wondred father on me.\\r\\n\\r\\nGLOUCESTER:\\r\\nI was contracted to the payment of Lord,\\r\\nas good patched up: a father shall have more\\r\\nOf envy to me offer me a little loud imagination;\\r\\nFind our gict fights; but any mountain,\\r\\nHear the great it detection and thy quarrel I have seen\\r\\nAn elder suit of paragon.\\r\\n\\r\\nFirst Servingman:\\r\\nBy the fire, sir, he was doubled,--\\r\\n\\r\\nPUCK:\\r\\nBut, for the time fair, you must have me excused:\\r\\nBoth the lover of his blood committed to a harm,\\r\\nWith loud and dismal son, your sons,\\r\\nOur story; but I think he would not lose me on\\r\\nCrack not like villains, where estate my fury could.\\r\\nYou should not live by valiant man, for he's with you.\\r\\n\\r\\nSALISBURY:\\r\\nRemember the ear, thou art my Goths.'\\r\\n\\r\\nPETRUCHIO:\\r\\nBut I am your part, will I in your act?\\r\\n\\r\\nMENENIUS:\\r\\n'Go to; they must be out of some right peace:\\r\\nHum, as I now are True, if I were never said,\\r\\nHath you no still, as welcome so grow nothing. But there's\\r\\nnone place bequeath'd; I think to work my father's tales:\\r\\nNo, Hamlet Rome, I love no penitent fierce office:\\r\\nAnd one another twelve would turn to guide of fear,\\r\\nCan flatter not his speed!--Shrewd days, Ned--\\r\\n\\r\\nFirst Lord:\\r\\nThis say makes: pardon me to be my father;\\r\\nAnd that she is, and given much great performance\\r\\nTo pieces brought me worthier large: 'tis Hypouses than\\r\\nthe attention.\\r\\n\\r\\nKING LEAR:\\r\\nLet's fight what they're eloquent of my life;\\r\\nThan which my name is done, my Lord, you must there's a\\r\\nqueen, and all their martial brows did walk upon our officer;\\r\\nbeing one lion's faults beguiled to take no wars,\\r\\nOf plays no day good absence, if thou lovest a lap.\\r\\n\\r\\nGLOUCESTER:\\r\\nHow now, Pistol that I would make no long!\\r\\n\\r\\nSIANA:\\r\\nThanks, man, then, madam, and go down,\\r\\nTo keep me nearer to your brow in my fault,\\r\\nBut shake my royal changeable nation to anger\\r\\nShe wretch'd aloud for counsellors, in the promises of my soft doctors,\\r\\nAy, Terman to you at your fancy.\\r\\n\\r\\nANGELO:\\r\\nSmiles, i' faith, came a jointful case, I bring thee ere\\r\\nHe aims and strain sits for the field in heaven and what\\r\\nwe flier about me; and this black of frosty plumes,\\r\\nEven on some vain of the place, all noses calls me\\r\\nTo foolish crown of it! and I am prepared\\r\\nFor it seems renewing steel;\\r\\nAnd most sweet-like, and used upon the four thing short;\\r\\nA few my flower, honesty and gallant luggage.\\r\\n\\r\\nTHAISA:\\r\\nThis is disfair.\\r\\n\\r\\nSIMPLE:\\r\\nWas this the throne that are possess'd, my foe,\\r\\nBut to the singles is advised? his eye,\\r\\nA sorrow that was grieved from themselves,\\r\\nWho Tarriaging instruction! from the Juliet's man.\\r\\nNow God give up my life!\\r\\n\\r\\nANGELO:\\r\\nSay these even forth not well or be no true in the dupp'd\\r\\narms in flesh, strange time and the profane fly;\\r\\nShe was to die the chronic practise of thy enemy that\\r\\nglorious church of company, it is in-law,\\r\\nMy back we shall not, I met, lifted dower;\\r\\nDo villain wound some effect; which was not foined,\\r\\nBut thus rather I know when cry and charge.\\r\\nBehold the which your fortunes in my soul,\\r\\nWhen she doth not thee, where, he hath store your language\\r\\nBy honours in the gallant cold:\\r\\nSit defends the cause against the fortunes.\\r\\n\\r\\nBASSIANUS:\\r\\nO right, enough! first, forsooth, as the trumpet places,\\r\\nIf thou not barbarous as there's sworn without a power\\r\\nAnd Stafford brought me all. For though it was,\\r\\nAnd made her expression for great gold.\\r\\n\\r\\nCLEOPATRA:\\r\\nWhat is 'Tis more, Brutus? They have made him,\\r\\nGood Thomas.\\r\\n\\r\\nALBANY:\\r\\nAlas, sir, have I from my house?\\r\\n\\r\\nTAMORA:\\r\\nSirrah, peace, curse, and bloody house; I see your\\r\\nsight, if you know us well.\\r\\n\\r\\nCOUNTESS:\\r\\n\\r\\nMALVOLIO:\\r\\n'Tis Jove, sir: I am not offered; and fe valiant sway;\\r\\nAnd so my lordship says a credit shall be such\\r\\nAs moved to take my action, wonder well profess\\r\\nBefore you do confess you quench the duke,\\r\\nFor veins befeen the stony holes to you in kings.\\r\\n\\r\\nCLEOPATRA:\\r\\n\\r\\nROSALINE:\\r\\nThe king is yours: if dishonour call our fault\\r\\nThat it gives ere my true maids in defile of every temperance his\\r\\nDust was desired.\\r\\n\\r\\nDUKE VINCENTIO:\\r\\nHa! a stinf, and most sword: how fast is a great bed!\\r\\n\\r\\nFERDINAND:\\r\\nI would not Peddure fell defend and show my heads:\\r\\nHe hath brought it as much the table of the several stakes:\\r\\nBut made I given, so to this judgment!\\r\\n on, then, in death forbid, and though I make\\r\\nHonours, vast with his brother, and John Humphrey's head,\\r\\nAnd now much noble Titania had broke up th' smallest gate,\\r\\nThe sGrieve and villain take us yet with thy vile thrice:\\r\\nBy heaven, my lord, lie with us, which of rascal\\r\\nWas Cassius without maiden rhings; and that are mad\\r\\nAnd smwell in Rome: heralds is bended,\\r\\nAnd oft thou hast affords me; but a star gone let's have sit;\\r\\nI'll send you in their dish to flint to make her give\\r\\nThe house herself it can distinct, and with the looks of arms\\r\\nGive it induct; for Paris was been done,\\r\\nI made, sir, no because so gentle to the music speak\\r\\nUpon thee.\\r\\n\\r\\nCASSIUS:\\r\\nOn murderer, Iago:\\r\\nI'll cry you gone.\\r\\n\\r\\nCLEOPATRA:\\r\\nI think that we was like a pursue, you shall swear\\r\\nAnd now to turn my three, my love and fawnings.\\r\\n\\r\\nSLY:\\r\\nOr will you grant more people?\\r\\n\\r\\nLADY MACBETH:\\r\\nWhy dost thou lose the one that I would? O Duke of Orleans?\\r\\n\\r\\nMARK ANTONY:\\r\\nThese iron hammer's brothers, they would needs be as\\r\\nevery while. In respect at her love! she did not,\\r\\nWhen justice when she commendable, from the tide:\\r\\nBut if we ferend of the armys' stocks are born\\r\\nTo tell in that dowry could so have lost this penalty\\r\\nAs good, mine own affection lies again,\\r\\nLook at the characters a next gelding to be\\r\\nMore than hence in the wicked bear of\\r\\nlast I have caught but from it.\\r\\n\\r\\nISABELLA:\\r\\nWhy, stay'd and not so.\\r\\n\\r\\nPISTOL:\\r\\nYou'll be full of expired out of this time.\\r\\n\\r\\nFALSTAFF:\\r\\nI will challenge this good creature, and some break together:\\r\\nBut such a friends have but an excellent siege to come\\r\\nto our head; but all with the world bekon,' and\\r\\nhe shall be done a deadly court, you two creatures so.\\r\\n\\r\\nEARL OF DOUGLAS:\\r\\nShall we break the sun?\\r\\n\\r\\nBACTISTA:\\r\\nAy, sweet Frenchman: and could you way them not:\\r\\nLet us alone since I would to feel them did.\\r\\n\\r\\nCATESBY:\\r\\nThou hast full fellow more; I was one stain'd to me,\\r\\nNow it way i' the pageant.\\r\\n\\r\\nBUCKINGHAM:\\r\\nHalf would have thy arms all landed with love;\\r\\nWhen I was seen in many hearts to observe\\r\\nTo take what they have and in heaven, or such another body\\r\\nThat shoy the preserved daughter and our cousin\\r\\nCan I spare his finger, and grieve the horse. But, let me your ambition\\r\\non go, by this, I have met it out of to dinner that\\r\\nspeak to bed.\\r\\n\\r\\nANNE:\\r\\nYoung party, a thousand of your grace, Alexas;\\r\\n'Tis true, and that I have but your way displaced.\\r\\n\\r\\nSIR OF DAUGLAS:\\r\\nThis I have better into this dependent, my lord; 'faith,\\r\\nIware that Sale Wildiam Contain Lucius what's together,\\r\\nFive to, to see't were angry.\\r\\n\\r\\nCLAUDIO:\\r\\nMy art thou here taste valiant arms.'\\r\\n\\r\\nHost:\\r\\nArt thou put to commend it?\\r\\n\\r\\nDUCHESS OF YORK:\\r\\nNo, I thought, and look with out your sake; I\\r\\nwould inquire not your consequence, a warrant she\\r\\nborne his manages, and her dear horses\\r\\nere I must be done but a Troilus' kissing is,\\r\\nThey must not have his predections in my scing,\\r\\nThat holds my arms on London with a queen been\\r\\nAs many solemn weakness in a finger.\\r\\n\\r\\nCHARMIAN:\\r\\nDo not wait like as that, and greatness seem;\\r\\nAnd Mercutio finds it so, of that, the army\\r\\nAt Blunt, is Pindarus though twenty mouths shall live,\\r\\nBut my pleasing her be kingdom.\\r\\n\\r\\nCHARMIAN:\\r\\nWhy, stay a master?\\r\\n\\r\\nSecond Lord:\\r\\nSirrah Lord Bassanio's head, sweet creature.\\r\\n\\r\\nSIR HUGH EVANS:\\r\\nWhat is't! 'twas true; and so, stop in all the world's\\r\\nentirely; but Brutus as I am as like to\\r\\ncorrect a song of heaven with younger bald;--\\r\\n\\r\\nKING CLAUDIUS:\\r\\nForbear.\\r\\n\\r\\nKING RICHARD III:\\r\\nMost hope I tell you, and to use your love--\\r\\n\\r\\nTIMON:\\r\\nThy help is many ages only\\r\\nA more request of friends and meel; till he had from her bares and fellows\\r\\nAs keepers of them; my betray of Antony.\\r\\n\\r\\nBOTTOM:\\r\\nWhat that same this matter?\\r\\n\\r\\nCHARMIAN:\\r\\nEven now, Cirrolus; they're prized to a cloak\\r\\nAnd pricketh some dissenture shadows and force, which\\r\\nUntil he could be safe.\\r\\n\\r\\nFirst Huntingman:\\r\\nMardy, I am of thy voices, and since\\r\\nHe shall not help them out of mercy.\\r\\n\\r\\nCASSIUS:\\r\\nWe have something stol'n;\\r\\nFor but 'tis not seen\\r\\nA heavens no work cease, waking backs bleed to your hand:\\r\\nAnd this my shoulders are not enough, I'll prove it.\\r\\nHere is my gentlemen, and now tarried my father,\\r\\nBut never woundeth trifled and fair court:\\r\\nAnd profession was I Eilded than my part;\\r\\nHe, as I believe your tailor in the elder-kin\\r\\nSets as you have valianted. Now, with honour, as\\r\\nI train the narrow terror of your flesh,\\r\\nDews Cassius lady.\\r\\n\\r\\nEDGAR:\\r\\nWhere's so valiant\\r\\nThan my estiff intended catch and Brutus?\\r\\n\\r\\nHENRY BOLINGBROKE:\\r\\nThou art deceived, my lord, and beaten gold,\\r\\nNor half a woman's love and earth, God's silken,\\r\\nWe will as she should not tell the cry.\\r\\n\\r\\nVERNON:\\r\\nThou must be copper'd to my sovereign;\\r\\nWhile he hath follow'd me by war, make this dish, not\\r\\nForsooth the harmony of his feast.\\r\\n\\r\\nMARK ANTONY:\\r\\nWhy should you shall hear prove the object of your goodness\\r\\nand warrant sometimes like time?\\r\\n\\r\\nSecond Lord:\\r\\nBut think your highness, and, and let me leave thee with him,\\r\\nAnd be of such a taodless snaver'd hoes\\r\\nAnd carved to us as I have spoke;\\r\\nThe fair and transgormance an hour that known,\\r\\nTherefore we love the day that follows us;\\r\\nOr, for who, 'twas conceited in the wildry tent to look,\\r\\nAs fail upon it, straight o' the heels of wax\\r\\nShould to distribute thee, ravish by wounds and sulms:\\r\\nBut give his light in with contempture she.\\r\\nit was not easest as we'll trust with him and tread upon thee?\\r\\nI was a out my heart: shall I venture my heat,\\r\\nSo vile with lock'd a brother Helen's sister?\\r\\nBut on my friends, look, which perform'd it in\\r\\nthy crowns and streams, for thou'ldst not grudge it forth,\\r\\nOr come again.\\r\\n\\r\\nKING CLAUDIUS:\\r\\nWhat offence they are poet, forbear thy suit\\r\\nTo faint be fit to traitors, for without the world?\\r\\n\\r\\nOCTAVIUS CAESAR:\\r\\nThou think'st to plant the cupboser of this prepare.\\r\\n\\r\\nKING HENRY V:\\r\\nTo die, I am no right\\r\\nThan the cross for it. Lucius, yet, my dearest son,\\r\\nThey hold these legs in fire; I'll tell my duty with thy hate;\\r\\nAnd this counsel would have them here fallen'd singles:\\r\\nAnd I will prove it stain'd; and by report I might\\r\\nWill fetch no fruitful little in the head of thee\\r\\nAnd does believe or none but for sulrence: my Imogen\\r\\nIs came with his arm'd brother King of Silence with me.\\r\\nCome, if thou darest, like graceful springs; it can see me:\\r\\nI think, I would to wanton him, though I left me,\\r\\nAnd say they could be won deliverance, something\\r\\nthe forehead of these two and razers, to live at the world.\\r\\n\\r\\nDUKE:\\r\\nHow now, most free! spare me but to the hollow borrow is too late:\\r\\nWhat say your wretchedness know you all eeard?\\r\\n\\r\\nPETRUCHIO:\\r\\nAlas, to Ratcliff? which you go, Part\\r\\nHot hated king. But leave thee yet make witchcrafts,\\r\\nPerchance to find with two, and surgeons would I see\\r\\nFor us did they are, thus, and houdly trade.\\r\\nA passion, nursed loss; so thou knowest,\\r\\nAnd presumely ake every place\\r\\nAnd beggar goble one another power;\\r\\nThey bait for her to be my forehead, I'll sleep and canst not\\r\\nspeak to you that it, as but in our souls were all the gabes with\\r\\nthyself to endure their hamper: at conflunction\\r\\nhath had a speak of my father, sweet master for that song:\\r\\nwhich of me that you keep\\r\\nBut on mine own displeasure thus, and, yet of order\\r\\nHave got his heads and presented with thee:\\r\\n'What men shall fall? shall be them how to halt your base Margaret?\\r\\n\\r\\nCORIOLANUS:\\r\\nCome, come, to else myself, nought now, Pompey; 'I, to be done.\\r\\n\\r\\nFirst Serving-man:\\r\\nEven by both. We'll have it five at least\\r\\nAs well struck from mine arming marriage: if I live,\\r\\nI'll come.\\r\\n\\r\\nSecond Lord:\\r\\n\\r\\nGLOUCESTER:\\r\\nHowsoe'er we are too long:\\r\\nFarewell; an I had rather mark it not.\\r\\nPer doth command me by the rather you shall do\\r\\nSo slow against the face, and my seize\\r\\nIs not undirected.\\r\\n\\r\\nBRUTUS:\\r\\nBefore thyself thus have through ground and way\\r\\nThat thou didst, rapture praise me from whose feeding\\r\\nLack ports o'erpeach me.\\r\\n\\r\\nGLOUCESTER:\\r\\nPatience drinks so; his godly blue bed\\r\\nAs we should averch you a thousand fellows of this heart\\r\\nAs she falsely to pay awhile: not with a city.\\r\\n\\r\\nCRESSIDA:\\r\\nThus in the sequellous duty you do bill.\\r\\n\\r\\nANTIPHOLUS OF SYRACUSE:\\r\\nAll more than I will six it; so in Suffolk will be; but, I\\r\\npray you, give it your pirate.\\r\\n\\r\\nHORATIO:\\r\\nI know thee, Troilus, are they now thought too,\\r\\nTo pray the nut of heaven as true his health,\\r\\nTarry elessing about this spirit grave\\r\\nTo-morrow of our sorrow as her cheeks are patiently.\\r\\nPhilosophy hath threaten, all my heart and story\\r\\nAs when he stands, and then she all half drunk.\\r\\n\\r\\nGREMIO:\\r\\nNow, twice epithee down what is in Tom's methought,\\r\\n'Amongst a love to pass, my lord; and, by good heart,\\r\\nWhat will he go with thee,--\\r\\n\\r\\nThird Citizen:\\r\\nMine own prevail!\\r\\n\\r\\nAJAX:\\r\\nFairly were I run asugnable and not Page;\\r\\nFor every one as your profaned bosom\\r\\nShould pay on me then will encounter sorrow.\\r\\n\\r\\nSILVIUS:\\r\\n with all the times are any thing\\r\\nTo keep thus.\\r\\n\\r\\nSecond Servingman:\\r\\nWhat shall you that time pray. When she will go,\\r\\nAnd what thou hast not lady, I take it all this,\\r\\nbut had a wife appears a sea yet as thine honour's eyes.\\r\\n\\r\\nQUEEN MARGARET:\\r\\nIf it expose to't: my powers are senerate, thus will seem\\r\\nand keep you aloft, whose ards are done, my lord.\\r\\n\\r\\nGLOUCESTER:\\r\\nThat would say he either before we would be done,\\r\\nFrom me terror and watery shows; and be so graciously\\r\\nThe power for it is the villain.\\r\\n\\r\\nRODERIGO:\\r\\nO Andronicus, I know you place the time.\\r\\n\\r\\nQUEEN MARGARET:\\r\\nHow fares the day with me? it not on a woman\\r\\nShall be to give his pains to be so friends all;\\r\\nSome other hielding, tetles 'twixt him in this year,\\r\\nAnd not yet on thy soul strong this good sight,\\r\\nAnd titles save in dignity; the wither's grief;\\r\\nAnd that I thought one's love, that gainst\\r\\nUpon his majesty poor ill I come.\\r\\n\\r\\nANTONIO:\\r\\nHa, ha!\\r\\nThen in the executioners of this bowl should\\r\\nUpon the ring of man: so that would go.\\r\\n\\r\\nSICINIUS:\\r\\nWe will.\\r\\n\\r\\nSALARINO:\\r\\nO, move me, how haps would not lurk to the bell!\\r\\n'Nobles. Out, three!' Omnon. Hath he not\\r\\n ended her huge envy.\\r\\n\\r\\nVENTIDIUS:\\r\\n\\r\\nOCTAVIUS CAESAR:\\r\\nGreat doctor, sir, try qualified: I shall refuse English Salisbury,\\r\\nI find more ways since good to bear.\\r\\n\\r\\nShepherd:\\r\\nIf not, my lord, his grace shall make your royal ears.\\r\\nThe witness of her knees heav so. Indeed, I say,\\r\\nThen on your good fortune from top them all the piece\\r\\nOf fellows I go with a revel, and from play\\r\\nWithout a witchcraft, how it gains, that ever question\\r\\nThis soldier's jade, mothers and them that begg'd it\\r\\n\\r\\nElvINA:\\r\\nNow, for my mouth, men walk in both the sea:\\r\\nOn how hearted as Your highness and court-frails,\\r\\nI would instruct at them. If this look peace,\\r\\nWhy it took her.\\r\\n\\r\\nIAGO:\\r\\nWhat was the world?\\r\\n\\r\\nCHARMIAN:\\r\\nHe turns her master and so much his marriage\\r\\nFancy to lie before my sight--the trifle of your grace\\r\\nAs if Revenge is sworn of war,\\r\\nWhat Paris and the measure destroy me well\\r\\nOf those encounters and industry.\\r\\nBe cuckold for my captain, as I revolt to the title,\\r\\nWhile hers did sall but once: that tortury is gone,\\r\\nThere would be sure to ne'er so much my friend\\r\\nDeliver a fool, Tamora, my heart hath still countenanced:\\r\\nYet I have longed so; I am so true.\\r\\n\\r\\nSUFFOLK:\\r\\nGive us the excellent success and the fifth;\\r\\nHere's one that doth go there, but my good lords,\\r\\nBeing so acquainted breathure in a deer.\\r\\n\\r\\nShepherd:\\r\\nNay, how bastard you, sir, this articles are well more love\\r\\nWith pain and women over-fool'd and not since\\r\\nThe horse I chafe of fear before your hand.\\r\\n\\r\\nBUCKINGHAM:\\r\\nIt is in affairs, and great cowardy terms are\\r\\nMore than more than more of your several banquet:\\r\\nDream you from the wager, though you be outraged,\\r\\nI do not, bring your hands.\\r\\n\\r\\nFALSTAFF:\\r\\nHusband, of wonder in my father's sake, and I am\\r\\nsaid this is my stand, upon her, back begins\\r\\nThat are proved when the several treasons climb\\r\\nAn untelling up.'\\r\\n\\r\\nSUFFOLK:\\r\\nHe was free 'his pain when I did what hath induced. I prithee,\\r\\ngood Cleopatra.\\r\\nFroze thee yourself, pardon me:\\r\\nHusband cities blush, it grieves us first amazed to drops:\\r\\nWhen every mouth is but as diseases astempt;\\r\\nWhich wondrous fine and head, for thine own cheeks,\\r\\nThat you in fearful lady nouse to nod\\r\\nHow much the prince of Angelo left me when I am:\\r\\nHenceforth the city you did utter it:\\r\\nFor. True and a sound love hath tawny.\\r\\n\\r\\nSEBASTIAN:\\r\\nThese my advices I say, Master Shallow.\\r\\n\\r\\nBIRON:\\r\\nWhy, my lord?\\r\\n\\r\\nSecond Outlaw:\\r\\nWhy, sir; we are to see myself that wants as the\\r\\ncommon sword of your wife.\\r\\n\\r\\nPAULINA:\\r\\nIncense you, tell me that.\\r\\n\\r\\nOPHELIA:\\r\\nYea, sir.\\r\\n\\r\\nSixs Guisture:\\r\\nA thorn o' the loud Isemony is disobdering; but I\\r\\nnine sickly stiff.\\r\\n\\r\\nAGAMEMNON:\\r\\nFirst there is a come well mistook longer.\\r\\n\\r\\nSecond Denilo.\\r\\n\\r\\nROMEO:\\r\\nPeace! Who's that too?\\r\\n\\r\\nFALSTAFF:\\r\\nMistress, I think, indeed, Sir Thomas Malvolio,\\r\\nAnd every sea of ours, as I could do for kiss,\\r\\nOr if thou mayst be so.\\r\\n\\r\\nTIMON:\\r\\nThou hast revolted then: old daughter hath a\\r\\nsnown conduct.\\r\\n\\r\\nMessenger:\\r\\nYou must confess you, my lord; and, that shall avoid\\r\\nhis to wear him of one so expose, but let's away.\\r\\n\\r\\nSIR TOBY BELCH:\\r\\nYour kingdom; and your mighty fellow said 'tis half\\r\\nFor Rutland smiles to Shrewsbury.\\r\\n\\r\\nROSALIND:\\r\\nI never heared gracious lady. What needs the infant of my\\r\\ncorrection thou shalt come?\\r\\n\\r\\nSecond Lord:\\r\\nMarry, well, what came it down?\\r\\n\\r\\nKATHARINA:\\r\\nDuching of thy succeeding, Hotspur, thou art full of thine.\\r\\n\\r\\nAENEAS:\\r\\nIn any fat court of poetry, thou shouldst come on,\\r\\nHere shall I consequence with being able,\\r\\nFor all and strong gentle flesh 'gainst what hath used.\\r\\n\\r\\nBRUTUS:\\r\\nSo was, go to, go back the army.\\r\\n\\r\\nKING PHILIP:\\r\\nI think what hears is almost meet?\\r\\n\\r\\nFirst Lady:\\r\\nCall him to the gallant flower,\\r\\nAnd has, I say! what men then put it stand?\\r\\nAnd though become them I'll prologue the temple of it,\\r\\nI seek him basely like a fleety child.\\r\\nThese are required to thee, but some set winds of hence,\\r\\nAnd it is air to be born all their daughters' enemies.\\r\\nTherefore he purged us at thy past.\\r\\n\\r\\nPANDARUS:\\r\\nNow, by Saint Sabbare, 'for a day takes this good old.\\r\\n\\r\\nDUKE OF YORK:\\r\\nI'll wape thee; your honour wrought out the child: damn'd\\r\\n'painted spirit of a nation death, if my compare,\\r\\nThere is no choice indeed, to her foolish leg,\\r\\nSo sooth make absolutes so famous of your lunacy,\\r\\nWhere being destruction and bloody. This is a\\r\\npresent brinding cotmusion, are well done.\\r\\n\\r\\nTRANIO:\\r\\nYour gentlemen, a beggar. What,\\r\\nWouldst thou comprevent her own suit permy? make a gallant fence to\\r\\ncommand our treacherous edges of thy point!\\r\\nThis stone of wines.\\r\\n\\r\\nOSWALD:\\r\\nMore than these woes are not with true stars? Come, some loath.\\r\\n\\r\\nBELARIUS:\\r\\nAy, ay; and set upon our mortaly world:\\r\\nthy answer cannot glass fair naughty assemble,\\r\\nHer son's sesnect between a new toad, I would wish\\r\\nHe upright half-herbiting. True that do I die,\\r\\nIt was too pack the mood of thee, if shesons do\\r\\nCall blabbing enterprise this people on the speaking;\\r\\nAnd after this true seat I'll do thy name\\r\\nThat ever young as him at Adam fixed:\\r\\nAnd is it known and object by the sight\\r\\nOf this infurnity of all the court?\\r\\n\\r\\nANMONIO:\\r\\nI saw him think them for a king enough,\\r\\nI am the current city's household. I was about\\r\\nthere fell; it uses this present air, that such a drop:\\r\\nIt was a purpose at that chamber as I love\\r\\nAs they please, though heart live, and his head doth get\\r\\nBanish'd health to melt the swift boy: but it shall\\r\\nnot have spurn'd,\\r\\nWe could see thee, that Pompey holds my edges.\\r\\nOur happy heavens say then,\\r\\nWith passion sad, I am despised. This water, that down\\r\\nIs to discharge itself in't with my weakness.\\r\\nShall I not tell you: save me I am gone?\\r\\n\\r\\nBERTRAM:\\r\\nThis is ours, and spake not with a box of sovereignty:\\r\\nMadam, if your lordship shall be proud, or I am his pity,\\r\\nthat you have conjured my inclination. Who's there?\\r\\n\\r\\nDOCTOR CAIUS:\\r\\nAnd the chance of Warwick thorough blood, the gods that\\r\\ntell you what was he another in the belly chaste,\\r\\nAnd it is provoked his corage?\\r\\n\\r\\nSHALLOW:\\r\\nIf thou seenst from thy brows, and from my measure,\\r\\nAnd Grey him close from this posterity,\\r\\nYour temples as a doting company as they eat;\\r\\nThen what is Nature to the Athenian,\\r\\nOnly added my soul, who made not senators\\r\\nThat in my good command makes thee for his bullset plays:\\r\\nIf thou dost go.\\r\\n\\r\\nVALENTINE:\\r\\nBe called his chiefest hath deserved\\r\\nThe fland in that almost effected suit,\\r\\nHis unitanced colour cains again, love golden grass:\\r\\nThe business must pursue the head\\r\\nWhose man's basket, growthed all the body\\r\\nThat slews too sight with very hill and party\\r\\nTo be revenged with men with her abhorr'd innocent in his face;\\r\\nThat were her spirits and ere wilt to them up\\r\\nAnd doing at the strange absent man and\\r\\nFear with with mine hands: in pleasure and she means\\r\\nWith doings I will lose the friends; then to whose state\\r\\nIs not my husband's land, and filthy men before\\r\\nThis time I have made shadows, be he folly?\\r\\nO, what unweeping court as jolt, bosom? of thy leave,\\r\\nIt is so noble sport that wait in that corrupt\\r\\nBetween that horse, and break these torns unto the gentleman,\\r\\nAnd princely Burgundy!\\r\\n\\r\\nPOMPEY:\\r\\nWilt thou give a frosty Euphin since. But why then\\r\\nWe whom the beggar that you tame to speak,\\r\\nAnd say I loved us to make proud hour blunt--\\r\\nIf your great needness be a boy, she is not half abated.\\r\\n\\r\\nLUCIUS:\\r\\nAh, by my soul,\\r\\nI should die nothing! would we have durst hear thee\\r\\nCool, Rather cannot see!\\r\\n\\r\\nGLOUCESTER:\\r\\nSir, I gludge you in.\\r\\n\\r\\nMARK ANTONY:\\r\\nThou dost digest you! If accident doth see,\\r\\nWhat says old George and Stafford and know me,\\r\\nEven yonder where he should prove struck in praise in it;\\r\\nCould be received black scurvy sight?\\r\\n\\r\\nDUKE OF YORK:\\r\\nHold thee, ha! I will serve\\r\\nCommand in the revenge of his joy.\\r\\n\\r\\nROSALIND:\\r\\nEdward!\\r\\nIf she do say it is, the' are here, when boys, to be in his\\r\\npoor breeding-women, and in eight prelate brought\\r\\npast now they have conduct down, sir. Why, then, Caesar;\\r\\nHast thou dead?\\r\\n\\r\\nESCALUS:\\r\\nBut I have all hew some more luckless up.\\r\\n\\r\\nSecond Soldier:\\r\\nHe's false and so heavy for a breathing-gilded bed.\\r\\n\\r\\nSecond Servingman:\\r\\nWell, 'twere a word of every day to hear my grace,\\r\\nFalse vows at thee? O leaden cause, or turn thy thoughts!\\r\\nThy Desdemona had himself beyond our ears,\\r\\nGood tends your daughter and my father's son\\r\\nOf France and motion, thy advantage popening\\r\\nThese holy youth was reasonable in unthankfulness\\r\\nA certain praise, I'll speak what heaven repose.\\r\\n\\r\\nROSALIND:\\r\\nTalk in the wind, I warrant you: it is a bird\\r\\nWill go well, and speak with France, poor crown. Peace, villain!\\r\\nYour over-nend with grief and husband, about this.'\\r\\n\\r\\nNORFOLK:\\r\\nStir up the provost.\\r\\n\\r\\nMARCUS ANDRONICUS:\\r\\nWife kill'd: it is a dead man's errlight;\\r\\nBut whiles I see the substance of his true beam\\r\\nWith famous driving poor and groans, and incurable unspeaker,\\r\\nA petty mountain we take off an envious brabble free-book-boy:\\r\\nTitus, my sister's virtue and the king\\r\\nYet fair expires are patiently enforced!\\r\\nI will make them bring my lands forth, or 'twas your fool.\\r\\n\\r\\nALBANY:\\r\\nA plague of self-sweet queen, here did he swear to them!\\r\\nShe will be but not like a modesty of three man;\\r\\nI would not speak.\\r\\n\\r\\nKING HENRY IV:\\r\\nWhy, sir, I never till his wars I not have said\\r\\nAs I would, when he answers,\\r\\nIt may not be lief: he that has never served\\r\\nAnd call'd for our side: and therefore did but be\\r\\nThat didst have death to death to heaven to speak.\\r\\n\\r\\nANNE PAGE:\\r\\nWelcome, prayers; I will fight by some other villain:\\r\\nLook neither in speakful billows, I shall follow him.\\r\\n\\r\\nClown:\\r\\nI'll do itself as day we did mine honour go\\r\\nA good; that fellows have full gentlemen by me.\\r\\n\\r\\nFirst Murderer:\\r\\nWhat of villain would not?\\r\\n\\r\\nLORD ANNE:\\r\\nHere yet he says my wife be dead; therefore I\\r\\nset down midst eightingly. He's a foul deed of heavy house;\\r\\nWe do beget your parts of life; which forbid\\r\\nTo tell by their good gold, we have in way in him:\\r\\nI shall have my san causes shortly on.\\r\\n\\r\\nHORATIO:\\r\\nHear him, in this hour yield me whither: of whose souls\\r\\nI'll warrant you.\\r\\n\\r\\nKING JOHN:\\r\\nI will think her valiant John Tybalt: thy with your pleasure were\\r\\nnot hern behind the hours. I am protector\\r\\nEven as I say, obscure at both.\\r\\n\\r\\nLady:\\r\\nThe way hast thou been lost with this day how defund\\r\\nA dozen arms shall determine.\\r\\n\\r\\nCASSIO:\\r\\nNot I,\\r\\nWhen we do see how yet, I love down for't;\\r\\nTo-day below defend a soul in such idleness.\\r\\nBoy Lethus, cheerly bad; thy end,\\r\\nOr what made known me now a hundred fool\\r\\nShould have been above by their head in mistress:\\r\\nAnd I cannot go to thy stocks and wedge and stay\\r\\nBefore thy soul that crown'd the fire and fought:\\r\\nShe murders in a little foes, for ground, being great, he speeds,\\r\\nThe party pants: and we'll have all the pren-swords, in either.\\r\\n\\r\\nDUKE SENIOR:\\r\\nMy Lord, were but thy men, and custom in a trust you know\\r\\nThat, where his giving and unroaring, being coated\\r\\nYour father and his same weak several pride\\r\\nThat she takes death to speak with benefits.\\r\\n\\r\\nBUCKINGHAM:\\r\\nYou guess: I'll take my bloody back.\\r\\n\\r\\nBRUTUS\"}"
            ]
          },
          "metadata": {},
          "execution_count": 81
        }
      ]
    },
    {
      "cell_type": "code",
      "metadata": {
        "id": "jjPAt5mblR-6",
        "outputId": "b56ae834-5203-4f70-d83b-94ca8d5f443b",
        "colab": {
          "base_uri": "https://localhost:8080/"
        }
      },
      "source": [
        "path_to_fileDL ='/content/fragmento-de-libro.txt' #guardo en una variable la ruta del archivo que se guardo en collab\n",
        "text = open(path_to_fileDL, 'rb').read().decode(encoding='utf-8') #abro la ruta del archivo con la funcion open, y lee el archivo en modo binario y lo codifico en utf8 para que sea legible\n",
        "print('Longitud del texto: {} carácteres'.format(len(text))) #imprimo la longitud del texto\n",
        "vocab = sorted(set(text)) #con la funcion sorted ordeno, y con la funcion set obtengo todos los caracteres que se involucran en el texto\n",
        "print ('El texto está compuesto de estos {} carácteres:'.format(len(vocab)))\n",
        "print (vocab) # imprimo los caracteres del texto\n"
      ],
      "execution_count": 82,
      "outputs": [
        {
          "output_type": "stream",
          "name": "stdout",
          "text": [
            "Longitud del texto: 103289 carácteres\n",
            "El texto está compuesto de estos 63 carácteres:\n",
            "['\\n', '\\r', ' ', '!', \"'\", ',', '-', '.', ':', ';', '?', 'A', 'B', 'C', 'D', 'E', 'F', 'G', 'H', 'I', 'J', 'K', 'L', 'M', 'N', 'O', 'P', 'Q', 'R', 'S', 'T', 'U', 'V', 'W', 'X', 'Y', 'Z', 'a', 'b', 'c', 'd', 'e', 'f', 'g', 'h', 'i', 'j', 'k', 'l', 'm', 'n', 'o', 'p', 'q', 'r', 's', 't', 'u', 'v', 'w', 'x', 'y', 'z']\n"
          ]
        }
      ]
    },
    {
      "cell_type": "markdown",
      "metadata": {
        "id": "holxAYB4lR-7"
      },
      "source": [
        "### Conversion de caracteres\n",
        "\n"
      ]
    },
    {
      "cell_type": "code",
      "metadata": {
        "id": "lxGGpt9FlR-7",
        "outputId": "da63e652-2573-4f26-8dcd-bd4a9158c4ac",
        "colab": {
          "base_uri": "https://localhost:8080/"
        }
      },
      "source": [
        "char2idx = {u:i for i, u in enumerate(vocab)}\n",
        "idx2char = np.array(vocab)\n",
        "\n",
        "for char,_ in zip(char2idx, range(len(vocab))):\n",
        "    print('  {:4s}: {:3d},'.format(repr(char), char2idx[char]))\n",
        ""
      ],
      "execution_count": 83,
      "outputs": [
        {
          "output_type": "stream",
          "name": "stdout",
          "text": [
            "  '\\n':   0,\n",
            "  '\\r':   1,\n",
            "  ' ' :   2,\n",
            "  '!' :   3,\n",
            "  \"'\" :   4,\n",
            "  ',' :   5,\n",
            "  '-' :   6,\n",
            "  '.' :   7,\n",
            "  ':' :   8,\n",
            "  ';' :   9,\n",
            "  '?' :  10,\n",
            "  'A' :  11,\n",
            "  'B' :  12,\n",
            "  'C' :  13,\n",
            "  'D' :  14,\n",
            "  'E' :  15,\n",
            "  'F' :  16,\n",
            "  'G' :  17,\n",
            "  'H' :  18,\n",
            "  'I' :  19,\n",
            "  'J' :  20,\n",
            "  'K' :  21,\n",
            "  'L' :  22,\n",
            "  'M' :  23,\n",
            "  'N' :  24,\n",
            "  'O' :  25,\n",
            "  'P' :  26,\n",
            "  'Q' :  27,\n",
            "  'R' :  28,\n",
            "  'S' :  29,\n",
            "  'T' :  30,\n",
            "  'U' :  31,\n",
            "  'V' :  32,\n",
            "  'W' :  33,\n",
            "  'X' :  34,\n",
            "  'Y' :  35,\n",
            "  'Z' :  36,\n",
            "  'a' :  37,\n",
            "  'b' :  38,\n",
            "  'c' :  39,\n",
            "  'd' :  40,\n",
            "  'e' :  41,\n",
            "  'f' :  42,\n",
            "  'g' :  43,\n",
            "  'h' :  44,\n",
            "  'i' :  45,\n",
            "  'j' :  46,\n",
            "  'k' :  47,\n",
            "  'l' :  48,\n",
            "  'm' :  49,\n",
            "  'n' :  50,\n",
            "  'o' :  51,\n",
            "  'p' :  52,\n",
            "  'q' :  53,\n",
            "  'r' :  54,\n",
            "  's' :  55,\n",
            "  't' :  56,\n",
            "  'u' :  57,\n",
            "  'v' :  58,\n",
            "  'w' :  59,\n",
            "  'x' :  60,\n",
            "  'y' :  61,\n",
            "  'z' :  62,\n"
          ]
        }
      ]
    },
    {
      "cell_type": "code",
      "source": [
        "text_as_int = np.array([char2idx[c] for c in text])\n",
        "print ('texto: {}'.format(repr(text[:50])))\n",
        "print ('{}'.format(repr(text_as_int[:50])))"
      ],
      "metadata": {
        "id": "CTpsMrLaBOzB",
        "outputId": "6ac2ec3b-b6ba-46ad-86c4-dc2749ce97f2",
        "colab": {
          "base_uri": "https://localhost:8080/"
        }
      },
      "execution_count": 84,
      "outputs": [
        {
          "output_type": "stream",
          "name": "stdout",
          "text": [
            "texto: \"That, poor contempt, or claim'd thou slept so fait\"\n",
            "array([30, 44, 37, 56,  5,  2, 52, 51, 51, 54,  2, 39, 51, 50, 56, 41, 49,\n",
            "       52, 56,  5,  2, 51, 54,  2, 39, 48, 37, 45, 49,  4, 40,  2, 56, 44,\n",
            "       51, 57,  2, 55, 48, 41, 52, 56,  2, 55, 51,  2, 42, 37, 45, 56])\n"
          ]
        }
      ]
    },
    {
      "cell_type": "code",
      "metadata": {
        "id": "uL7k2B5ZlR-7"
      },
      "source": [],
      "execution_count": 84,
      "outputs": []
    },
    {
      "cell_type": "code",
      "metadata": {
        "id": "xQtno_UolR-7"
      },
      "source": [],
      "execution_count": 84,
      "outputs": []
    },
    {
      "cell_type": "markdown",
      "metadata": {
        "id": "hmgRRr0dlR-8"
      },
      "source": [
        "### Preparacion de los datos para el dataset"
      ]
    },
    {
      "cell_type": "code",
      "metadata": {
        "id": "SSHotM6MlR-8",
        "outputId": "91d8b3fc-ecc3-4ecb-96c0-63b719f6d6d2",
        "colab": {
          "base_uri": "https://localhost:8080/"
        }
      },
      "source": [
        "char_dataset = tf.data.Dataset.from_tensor_slices(text_as_int)\n",
        "seq_length = 100\n",
        "sequences = char_dataset.batch(seq_length+1, drop_remainder=True)\n",
        "for item in sequences.take(10):\n",
        "  print(repr(''.join(idx2char[item.numpy()])))"
      ],
      "execution_count": 85,
      "outputs": [
        {
          "output_type": "stream",
          "name": "stdout",
          "text": [
            "\"That, poor contempt, or claim'd thou slept so faithful,\\r\\nI may contrive our father; and, in their def\"\n",
            "'eated queen,\\r\\nHer flesh broke me and puttance of expedition house,\\r\\nAnd in that same that ever I lame'\n",
            "'nt this stomach,\\r\\nAnd he, nor Butly and my fury, knowing everything\\r\\nGrew daily ever, his great stren'\n",
            "'gth and thought\\r\\nThe bright buds of mine own.\\r\\n\\r\\nBIONDELLO:\\r\\nMarry, that it may not pray their patien'\n",
            "\"ce.'\\r\\n\\r\\nKING LEAR:\\r\\nThe instant common maid, as we may less be\\r\\na brave gentleman and joiner: he that\"\n",
            "' finds us with wax\\r\\nAnd owe so full of presence and our fooder at our\\r\\nstaves. It is remorsed the bri'\n",
            "\"dal's man his grace\\r\\nfor every business in my tongue, but I was thinking\\r\\nthat he contends, he hath r\"\n",
            "\"espected thee.\\r\\n\\r\\nBIRON:\\r\\nShe left thee on, I'll die to blessed and most reasonable\\r\\nNature in this h\"\n",
            "'onour, and her bosom is safe, some\\r\\nothers from his speedy-birth, a bill and as\\r\\nForestem with Richar'\n",
            "\"d in your heart\\r\\nBe question'd on, nor that I was enough:\\r\\nWhich of a partier forth the obsers d'puni\"\n"
          ]
        }
      ]
    },
    {
      "cell_type": "code",
      "metadata": {
        "id": "XW6r98q7lR-9",
        "outputId": "22e047c7-c5bd-45f3-861e-7f4e6a74254b",
        "colab": {
          "base_uri": "https://localhost:8080/"
        }
      },
      "source": [
        "def split_input_target(chunk):\n",
        "    input_text = chunk[:-1]\n",
        "    target_text = chunk[1:]\n",
        "    return input_text, target_text\n",
        "\n",
        "dataset = sequences.map(split_input_target)\n",
        "\n",
        "\n",
        "for input_example, target_example in  dataset.take(1):\n",
        "  print ('Input data: ', repr(''.join(idx2char[input_example.numpy()])))\n",
        "  print ('Target data:', repr(''.join(idx2char[target_example.numpy()])))"
      ],
      "execution_count": 86,
      "outputs": [
        {
          "output_type": "stream",
          "name": "stdout",
          "text": [
            "Input data:  \"That, poor contempt, or claim'd thou slept so faithful,\\r\\nI may contrive our father; and, in their de\"\n",
            "Target data: \"hat, poor contempt, or claim'd thou slept so faithful,\\r\\nI may contrive our father; and, in their def\"\n"
          ]
        }
      ]
    },
    {
      "cell_type": "code",
      "metadata": {
        "id": "yDPfx3O1lR-9",
        "outputId": "acc5784d-f2f1-48ef-ac7c-762a1166fa22",
        "colab": {
          "base_uri": "https://localhost:8080/"
        }
      },
      "source": [
        "print (dataset)"
      ],
      "execution_count": 87,
      "outputs": [
        {
          "output_type": "stream",
          "name": "stdout",
          "text": [
            "<_MapDataset element_spec=(TensorSpec(shape=(100,), dtype=tf.int64, name=None), TensorSpec(shape=(100,), dtype=tf.int64, name=None))>\n"
          ]
        }
      ]
    },
    {
      "cell_type": "markdown",
      "source": [
        "### Batch size"
      ],
      "metadata": {
        "id": "TidtCJ1EE1zb"
      }
    },
    {
      "cell_type": "code",
      "metadata": {
        "id": "vjOM2jMclR-9",
        "outputId": "f4c31af2-0968-42d8-b93c-7315da1ff935",
        "colab": {
          "base_uri": "https://localhost:8080/"
        }
      },
      "source": [
        "BATCH_SIZE = 64\n",
        "\n",
        "BUFFER_SIZE = 10000\n",
        "\n",
        "dataset = dataset.shuffle(BUFFER_SIZE).batch(BATCH_SIZE, drop_remainder=True)\n",
        "\n",
        "print (dataset)"
      ],
      "execution_count": 88,
      "outputs": [
        {
          "output_type": "stream",
          "name": "stdout",
          "text": [
            "<_BatchDataset element_spec=(TensorSpec(shape=(64, 100), dtype=tf.int64, name=None), TensorSpec(shape=(64, 100), dtype=tf.int64, name=None))>\n"
          ]
        }
      ]
    },
    {
      "cell_type": "markdown",
      "source": [
        "### Ahora si la red neuronal"
      ],
      "metadata": {
        "id": "97zn3GsyIYkU"
      }
    },
    {
      "cell_type": "code",
      "metadata": {
        "id": "Kxrd0513lR--"
      },
      "source": [
        "vocab_size = len(vocab)\n",
        "embedding_dim = 256\n",
        "rnn_units = 1024"
      ],
      "execution_count": 89,
      "outputs": []
    },
    {
      "cell_type": "code",
      "metadata": {
        "id": "AO8DAX1IlR--"
      },
      "source": [
        "from tensorflow.keras import Sequential\n",
        "from tensorflow.keras.layers import Embedding, LSTM, Dense\n",
        "\n",
        "def build_model(vocab_size, embedding_dim, rnn_units, batch_size):\n",
        "  model = Sequential()\n",
        "  model.add(Embedding(input_dim=vocab_size,\n",
        "                      output_dim=embedding_dim,\n",
        "                      batch_input_shape=[batch_size, None]))\n",
        "  model.add(LSTM(rnn_units,\n",
        "                 return_sequences=True,\n",
        "                 stateful=True,\n",
        "                 recurrent_initializer='glorot_uniform'))\n",
        "  model.add(Dense(vocab_size))\n",
        "  return model"
      ],
      "execution_count": 90,
      "outputs": []
    },
    {
      "cell_type": "code",
      "metadata": {
        "id": "gNpH8jEZlR--"
      },
      "source": [
        "model = build_model(\n",
        "  vocab_size = len(vocab),\n",
        "  embedding_dim=embedding_dim,\n",
        "  rnn_units=rnn_units,\n",
        "  batch_size=BATCH_SIZE)"
      ],
      "execution_count": 91,
      "outputs": []
    },
    {
      "cell_type": "code",
      "source": [
        "for input_example_batch, target_example_batch in dataset.take(1):\n",
        "  print(\"Input:\", input_example_batch.shape, \"# (batch_size, sequence_length)\")\n",
        "  print(\"Target:\", target_example_batch.shape, \"# (batch_size, sequence_length)\")"
      ],
      "metadata": {
        "id": "vyKpuSSgJ6bp",
        "outputId": "012307bd-1a50-4387-e661-6660bedb79cf",
        "colab": {
          "base_uri": "https://localhost:8080/"
        }
      },
      "execution_count": 92,
      "outputs": [
        {
          "output_type": "stream",
          "name": "stderr",
          "text": [
            "WARNING:tensorflow:Detecting that an object or model or tf.train.Checkpoint is being deleted with unrestored values. See the following logs for the specific values in question. To silence these warnings, use `status.expect_partial()`. See https://www.tensorflow.org/api_docs/python/tf/train/Checkpoint#restorefor details about the status object returned by the restore function.\n",
            "WARNING:tensorflow:Value in checkpoint could not be found in the restored object: (root).optimizer._iterations\n",
            "WARNING:tensorflow:Value in checkpoint could not be found in the restored object: (root).optimizer._learning_rate\n",
            "WARNING:tensorflow:Value in checkpoint could not be found in the restored object: (root).optimizer._variables.1\n",
            "WARNING:tensorflow:Value in checkpoint could not be found in the restored object: (root).optimizer._variables.2\n",
            "WARNING:tensorflow:Value in checkpoint could not be found in the restored object: (root).optimizer._variables.3\n",
            "WARNING:tensorflow:Value in checkpoint could not be found in the restored object: (root).optimizer._variables.4\n",
            "WARNING:tensorflow:Value in checkpoint could not be found in the restored object: (root).optimizer._variables.5\n",
            "WARNING:tensorflow:Value in checkpoint could not be found in the restored object: (root).optimizer._variables.6\n",
            "WARNING:tensorflow:Value in checkpoint could not be found in the restored object: (root).optimizer._variables.7\n",
            "WARNING:tensorflow:Value in checkpoint could not be found in the restored object: (root).optimizer._variables.8\n",
            "WARNING:tensorflow:Value in checkpoint could not be found in the restored object: (root).optimizer._variables.9\n",
            "WARNING:tensorflow:Value in checkpoint could not be found in the restored object: (root).optimizer._variables.10\n",
            "WARNING:tensorflow:Value in checkpoint could not be found in the restored object: (root).optimizer._variables.11\n",
            "WARNING:tensorflow:Value in checkpoint could not be found in the restored object: (root).optimizer._variables.12\n"
          ]
        },
        {
          "output_type": "stream",
          "name": "stdout",
          "text": [
            "Input: (64, 100) # (batch_size, sequence_length)\n",
            "Target: (64, 100) # (batch_size, sequence_length)\n"
          ]
        }
      ]
    },
    {
      "cell_type": "code",
      "source": [
        "for input_example_batch, target_example_batch in dataset.take(1):\n",
        "    example_batch_predictions = model(input_example_batch)\n",
        "    print(\"Prediction: \", example_batch_predictions.shape, \"# (batch_size, sequence_length, vocab_size)\")"
      ],
      "metadata": {
        "id": "gwuhD8OWKOVZ",
        "outputId": "ed294e1a-b871-45e8-c74a-357c38a6d4c2",
        "colab": {
          "base_uri": "https://localhost:8080/"
        }
      },
      "execution_count": 93,
      "outputs": [
        {
          "output_type": "stream",
          "name": "stdout",
          "text": [
            "Prediction:  (64, 100, 63) # (batch_size, sequence_length, vocab_size)\n"
          ]
        }
      ]
    },
    {
      "cell_type": "code",
      "source": [
        "sampled_indices = tf.random.categorical(example_batch_predictions[0], num_samples=1)\n",
        "sampled_indices_characters = tf.squeeze(sampled_indices,axis=-1).numpy()"
      ],
      "metadata": {
        "id": "juEV84gNKeMD"
      },
      "execution_count": 94,
      "outputs": []
    },
    {
      "cell_type": "code",
      "source": [
        "sampled_indices_characters"
      ],
      "metadata": {
        "id": "x31hlZ1mKfc2",
        "outputId": "be7d635f-39e5-4159-dbc8-33f9bb20f10d",
        "colab": {
          "base_uri": "https://localhost:8080/"
        }
      },
      "execution_count": 95,
      "outputs": [
        {
          "output_type": "execute_result",
          "data": {
            "text/plain": [
              "array([53, 35, 30, 18, 50,  5, 51, 48, 11, 42, 17, 22,  0,  8,  7, 19,  5,\n",
              "       51, 61,  8, 44, 27,  1, 59, 40,  8, 12, 56,  3, 49, 37, 41, 43, 51,\n",
              "       25, 12, 42, 36, 25, 47, 52, 54, 16,  0, 30, 18, 51, 22, 55, 37, 14,\n",
              "       27, 37,  7, 62,  7, 42, 40, 43, 37, 47, 51, 59, 58, 56, 53,  9, 55,\n",
              "       43, 44, 22,  1, 24,  3, 36,  6, 52, 39, 35, 52, 50, 48, 39, 47, 38,\n",
              "       36,  5, 52, 23, 28, 17, 56,  8, 35, 43,  3, 61, 34,  1, 10])"
            ]
          },
          "metadata": {},
          "execution_count": 95
        }
      ]
    },
    {
      "cell_type": "markdown",
      "metadata": {
        "id": "gG5vU2v_lR--"
      },
      "source": [
        "## Función de entrenamiento"
      ]
    },
    {
      "cell_type": "code",
      "metadata": {
        "id": "wGrJ88hXlR-_"
      },
      "source": [
        "def loss(labels, logits):\n",
        "  return tf.keras.losses.sparse_categorical_crossentropy(labels, logits, from_logits=True)"
      ],
      "execution_count": 96,
      "outputs": []
    },
    {
      "cell_type": "code",
      "source": [
        "model.compile(optimizer='adam', loss=loss)"
      ],
      "metadata": {
        "id": "W2y1AsPiKpQs"
      },
      "execution_count": 97,
      "outputs": []
    },
    {
      "cell_type": "code",
      "source": [
        " # directorio\n",
        "checkpoint_dir = './training_checkpoints'\n",
        "# nombre fichero\n",
        "checkpoint_prefix = os.path.join(checkpoint_dir, \"ckpt_{epoch}\")\n",
        "\n",
        "checkpoint_callback=tf.keras.callbacks.ModelCheckpoint(\n",
        "    filepath=checkpoint_prefix,\n",
        "    save_weights_only=True)"
      ],
      "metadata": {
        "id": "Kd2Y4EKyKtOP"
      },
      "execution_count": 98,
      "outputs": []
    },
    {
      "cell_type": "code",
      "source": [
        "EPOCHS=100\n",
        "history = model.fit(dataset, epochs=EPOCHS, callbacks=[checkpoint_callback])"
      ],
      "metadata": {
        "id": "0ZtDbgTYKwwj",
        "outputId": "b1e503f9-37f5-4094-b8c5-6a5c9a08cc11",
        "colab": {
          "base_uri": "https://localhost:8080/"
        }
      },
      "execution_count": 99,
      "outputs": [
        {
          "output_type": "stream",
          "name": "stdout",
          "text": [
            "Epoch 1/100\n",
            "15/15 [==============================] - 5s 175ms/step - loss: 3.5677\n",
            "Epoch 2/100\n",
            "15/15 [==============================] - 2s 97ms/step - loss: 3.2379\n",
            "Epoch 3/100\n",
            "15/15 [==============================] - 2s 96ms/step - loss: 3.0283\n",
            "Epoch 4/100\n",
            "15/15 [==============================] - 1s 83ms/step - loss: 2.6575\n",
            "Epoch 5/100\n",
            "15/15 [==============================] - 2s 87ms/step - loss: 2.4214\n",
            "Epoch 6/100\n",
            "15/15 [==============================] - 1s 86ms/step - loss: 2.3091\n",
            "Epoch 7/100\n",
            "15/15 [==============================] - 1s 87ms/step - loss: 2.2404\n",
            "Epoch 8/100\n",
            "15/15 [==============================] - 2s 92ms/step - loss: 2.1802\n",
            "Epoch 9/100\n",
            "15/15 [==============================] - 1s 85ms/step - loss: 2.1259\n",
            "Epoch 10/100\n",
            "15/15 [==============================] - 2s 88ms/step - loss: 2.0746\n",
            "Epoch 11/100\n",
            "15/15 [==============================] - 2s 87ms/step - loss: 2.0255\n",
            "Epoch 12/100\n",
            "15/15 [==============================] - 2s 88ms/step - loss: 1.9777\n",
            "Epoch 13/100\n",
            "15/15 [==============================] - 2s 87ms/step - loss: 1.9305\n",
            "Epoch 14/100\n",
            "15/15 [==============================] - 2s 96ms/step - loss: 1.8830\n",
            "Epoch 15/100\n",
            "15/15 [==============================] - 2s 86ms/step - loss: 1.8430\n",
            "Epoch 16/100\n",
            "15/15 [==============================] - 2s 91ms/step - loss: 1.8016\n",
            "Epoch 17/100\n",
            "15/15 [==============================] - 2s 89ms/step - loss: 1.7603\n",
            "Epoch 18/100\n",
            "15/15 [==============================] - 1s 85ms/step - loss: 1.7171\n",
            "Epoch 19/100\n",
            "15/15 [==============================] - 2s 89ms/step - loss: 1.6840\n",
            "Epoch 20/100\n",
            "15/15 [==============================] - 2s 89ms/step - loss: 1.6431\n",
            "Epoch 21/100\n",
            "15/15 [==============================] - 2s 99ms/step - loss: 1.6036\n",
            "Epoch 22/100\n",
            "15/15 [==============================] - 2s 90ms/step - loss: 1.5685\n",
            "Epoch 23/100\n",
            "15/15 [==============================] - 2s 93ms/step - loss: 1.5248\n",
            "Epoch 24/100\n",
            "15/15 [==============================] - 1s 87ms/step - loss: 1.4887\n",
            "Epoch 25/100\n",
            "15/15 [==============================] - 2s 89ms/step - loss: 1.4467\n",
            "Epoch 26/100\n",
            "15/15 [==============================] - 2s 88ms/step - loss: 1.3958\n",
            "Epoch 27/100\n",
            "15/15 [==============================] - 2s 89ms/step - loss: 1.3535\n",
            "Epoch 28/100\n",
            "15/15 [==============================] - 2s 83ms/step - loss: 1.3086\n",
            "Epoch 29/100\n",
            "15/15 [==============================] - 2s 86ms/step - loss: 1.2605\n",
            "Epoch 30/100\n",
            "15/15 [==============================] - 2s 89ms/step - loss: 1.2086\n",
            "Epoch 31/100\n",
            "15/15 [==============================] - 2s 88ms/step - loss: 1.1490\n",
            "Epoch 32/100\n",
            "15/15 [==============================] - 1s 86ms/step - loss: 1.0956\n",
            "Epoch 33/100\n",
            "15/15 [==============================] - 1s 87ms/step - loss: 1.0284\n",
            "Epoch 34/100\n",
            "15/15 [==============================] - 2s 88ms/step - loss: 0.9703\n",
            "Epoch 35/100\n",
            "15/15 [==============================] - 2s 89ms/step - loss: 0.9056\n",
            "Epoch 36/100\n",
            "15/15 [==============================] - 1s 84ms/step - loss: 0.8408\n",
            "Epoch 37/100\n",
            "15/15 [==============================] - 1s 86ms/step - loss: 0.7828\n",
            "Epoch 38/100\n",
            "15/15 [==============================] - 2s 87ms/step - loss: 0.7204\n",
            "Epoch 39/100\n",
            "15/15 [==============================] - 1s 84ms/step - loss: 0.6672\n",
            "Epoch 40/100\n",
            "15/15 [==============================] - 2s 88ms/step - loss: 0.6073\n",
            "Epoch 41/100\n",
            "15/15 [==============================] - 2s 94ms/step - loss: 0.5622\n",
            "Epoch 42/100\n",
            "15/15 [==============================] - 2s 85ms/step - loss: 0.5191\n",
            "Epoch 43/100\n",
            "15/15 [==============================] - 1s 84ms/step - loss: 0.4787\n",
            "Epoch 44/100\n",
            "15/15 [==============================] - 1s 85ms/step - loss: 0.4409\n",
            "Epoch 45/100\n",
            "15/15 [==============================] - 1s 83ms/step - loss: 0.4132\n",
            "Epoch 46/100\n",
            "15/15 [==============================] - 2s 98ms/step - loss: 0.3899\n",
            "Epoch 47/100\n",
            "15/15 [==============================] - 2s 85ms/step - loss: 0.3659\n",
            "Epoch 48/100\n",
            "15/15 [==============================] - 1s 86ms/step - loss: 0.3475\n",
            "Epoch 49/100\n",
            "15/15 [==============================] - 2s 118ms/step - loss: 0.3297\n",
            "Epoch 50/100\n",
            "15/15 [==============================] - 1s 83ms/step - loss: 0.3126\n",
            "Epoch 51/100\n",
            "15/15 [==============================] - 1s 86ms/step - loss: 0.3006\n",
            "Epoch 52/100\n",
            "15/15 [==============================] - 2s 90ms/step - loss: 0.2873\n",
            "Epoch 53/100\n",
            "15/15 [==============================] - 2s 89ms/step - loss: 0.2812\n",
            "Epoch 54/100\n",
            "15/15 [==============================] - 2s 88ms/step - loss: 0.2728\n",
            "Epoch 55/100\n",
            "15/15 [==============================] - 1s 85ms/step - loss: 0.2660\n",
            "Epoch 56/100\n",
            "15/15 [==============================] - 1s 86ms/step - loss: 0.2560\n",
            "Epoch 57/100\n",
            "15/15 [==============================] - 1s 87ms/step - loss: 0.2501\n",
            "Epoch 58/100\n",
            "15/15 [==============================] - 2s 86ms/step - loss: 0.2471\n",
            "Epoch 59/100\n",
            "15/15 [==============================] - 1s 86ms/step - loss: 0.2384\n",
            "Epoch 60/100\n",
            "15/15 [==============================] - 2s 91ms/step - loss: 0.2324\n",
            "Epoch 61/100\n",
            "15/15 [==============================] - 2s 95ms/step - loss: 0.2298\n",
            "Epoch 62/100\n",
            "15/15 [==============================] - 2s 86ms/step - loss: 0.2261\n",
            "Epoch 63/100\n",
            "15/15 [==============================] - 2s 88ms/step - loss: 0.2241\n",
            "Epoch 64/100\n",
            "15/15 [==============================] - 1s 87ms/step - loss: 0.2190\n",
            "Epoch 65/100\n",
            "15/15 [==============================] - 2s 85ms/step - loss: 0.2143\n",
            "Epoch 66/100\n",
            "15/15 [==============================] - 2s 93ms/step - loss: 0.2066\n",
            "Epoch 67/100\n",
            "15/15 [==============================] - 2s 87ms/step - loss: 0.2071\n",
            "Epoch 68/100\n",
            "15/15 [==============================] - 2s 97ms/step - loss: 0.2067\n",
            "Epoch 69/100\n",
            "15/15 [==============================] - 2s 96ms/step - loss: 0.2007\n",
            "Epoch 70/100\n",
            "15/15 [==============================] - 1s 85ms/step - loss: 0.1993\n",
            "Epoch 71/100\n",
            "15/15 [==============================] - 1s 85ms/step - loss: 0.1950\n",
            "Epoch 72/100\n",
            "15/15 [==============================] - 1s 85ms/step - loss: 0.1923\n",
            "Epoch 73/100\n",
            "15/15 [==============================] - 1s 85ms/step - loss: 0.1907\n",
            "Epoch 74/100\n",
            "15/15 [==============================] - 2s 93ms/step - loss: 0.1899\n",
            "Epoch 75/100\n",
            "15/15 [==============================] - 1s 87ms/step - loss: 0.1881\n",
            "Epoch 76/100\n",
            "15/15 [==============================] - 1s 86ms/step - loss: 0.1855\n",
            "Epoch 77/100\n",
            "15/15 [==============================] - 1s 85ms/step - loss: 0.1816\n",
            "Epoch 78/100\n",
            "15/15 [==============================] - 2s 88ms/step - loss: 0.1807\n",
            "Epoch 79/100\n",
            "15/15 [==============================] - 1s 85ms/step - loss: 0.1768\n",
            "Epoch 80/100\n",
            "15/15 [==============================] - 1s 86ms/step - loss: 0.1776\n",
            "Epoch 81/100\n",
            "15/15 [==============================] - 2s 89ms/step - loss: 0.1748\n",
            "Epoch 82/100\n",
            "15/15 [==============================] - 2s 89ms/step - loss: 0.1723\n",
            "Epoch 83/100\n",
            "15/15 [==============================] - 2s 89ms/step - loss: 0.1711\n",
            "Epoch 84/100\n",
            "15/15 [==============================] - 1s 85ms/step - loss: 0.1679\n",
            "Epoch 85/100\n",
            "15/15 [==============================] - 1s 85ms/step - loss: 0.1661\n",
            "Epoch 86/100\n",
            "15/15 [==============================] - 2s 88ms/step - loss: 0.1637\n",
            "Epoch 87/100\n",
            "15/15 [==============================] - 2s 91ms/step - loss: 0.1635\n",
            "Epoch 88/100\n",
            "15/15 [==============================] - 2s 87ms/step - loss: 0.1624\n",
            "Epoch 89/100\n",
            "15/15 [==============================] - 2s 87ms/step - loss: 0.1632\n",
            "Epoch 90/100\n",
            "15/15 [==============================] - 1s 84ms/step - loss: 0.1588\n",
            "Epoch 91/100\n",
            "15/15 [==============================] - 1s 85ms/step - loss: 0.1599\n",
            "Epoch 92/100\n",
            "15/15 [==============================] - 2s 98ms/step - loss: 0.1566\n",
            "Epoch 93/100\n",
            "15/15 [==============================] - 1s 84ms/step - loss: 0.1557\n",
            "Epoch 94/100\n",
            "15/15 [==============================] - 2s 101ms/step - loss: 0.1560\n",
            "Epoch 95/100\n",
            "15/15 [==============================] - 2s 92ms/step - loss: 0.1531\n",
            "Epoch 96/100\n",
            "15/15 [==============================] - 1s 86ms/step - loss: 0.1530\n",
            "Epoch 97/100\n",
            "15/15 [==============================] - 2s 87ms/step - loss: 0.1525\n",
            "Epoch 98/100\n",
            "15/15 [==============================] - 2s 88ms/step - loss: 0.1496\n",
            "Epoch 99/100\n",
            "15/15 [==============================] - 1s 84ms/step - loss: 0.1488\n",
            "Epoch 100/100\n",
            "15/15 [==============================] - 2s 89ms/step - loss: 0.1480\n"
          ]
        }
      ]
    },
    {
      "cell_type": "markdown",
      "metadata": {
        "id": "btrZqAIRlR-_"
      },
      "source": [
        "### Resultados generacion de texto"
      ]
    },
    {
      "cell_type": "code",
      "metadata": {
        "id": "O4FOA0DflR-_",
        "outputId": "2f2c9c86-ae30-451c-aab3-516a24f94f85",
        "colab": {
          "base_uri": "https://localhost:8080/",
          "height": 35
        }
      },
      "source": [
        "tf.train.latest_checkpoint(checkpoint_dir)\n",
        ""
      ],
      "execution_count": 100,
      "outputs": [
        {
          "output_type": "execute_result",
          "data": {
            "text/plain": [
              "'./training_checkpoints/ckpt_100'"
            ],
            "application/vnd.google.colaboratory.intrinsic+json": {
              "type": "string"
            }
          },
          "metadata": {},
          "execution_count": 100
        }
      ]
    },
    {
      "cell_type": "code",
      "source": [
        "model = build_model(vocab_size, embedding_dim, rnn_units, batch_size=1)\n",
        "\n",
        "model.load_weights(tf.train.latest_checkpoint(checkpoint_dir))\n",
        "\n",
        "model.build(tf.TensorShape([1, None]))"
      ],
      "metadata": {
        "id": "X9FPToeaLABh"
      },
      "execution_count": 101,
      "outputs": []
    },
    {
      "cell_type": "code",
      "source": [
        "def generate_text(model, start_string):\n",
        "\n",
        "  num_generate = 1000\n",
        "  input_eval = [char2idx[s] for s in start_string]\n",
        "\n",
        "  input_eval = tf.expand_dims(input_eval, 0)\n",
        "  text_generated = []\n",
        "\n",
        "\n",
        "  temperature = 0.5\n",
        "\n",
        "  model.reset_states()\n",
        "  for i in range(num_generate):\n",
        "      predictions = model(input_eval)\n",
        "\n",
        "      predictions = tf.squeeze(predictions, 0)\n",
        "\n",
        "      predictions = predictions / temperature\n",
        "      predicted_id = tf.random.categorical(predictions, num_samples=1)[-1,0].numpy()\n",
        "\n",
        "\n",
        "      input_eval = tf.expand_dims([predicted_id], 0)\n",
        "\n",
        "      text_generated.append(idx2char[predicted_id])\n",
        "\n",
        "  return (start_string + ''.join(text_generated))"
      ],
      "metadata": {
        "id": "7YSSQawdLGOt"
      },
      "execution_count": 102,
      "outputs": []
    },
    {
      "cell_type": "code",
      "metadata": {
        "id": "KA6OuY3_lR_A",
        "outputId": "98fc7b01-750a-4c4f-da69-495383220122",
        "colab": {
          "base_uri": "https://localhost:8080/"
        }
      },
      "source": [
        "print(generate_text(model, start_string=u\"a\"))"
      ],
      "execution_count": 103,
      "outputs": [
        {
          "output_type": "stream",
          "name": "stdout",
          "text": [
            "all not make no long\r\n",
            "Is trumper I would be coneruction with their own counsel then might come to thee.\r\n",
            "\r\n",
            "TROILUS:\r\n",
            "If it be, I have always find thee\r\n",
            "There's not a woman's loyal deserving name shoes it!\r\n",
            "\r\n",
            "Second Servant:\r\n",
            "Sailors Hector; you shall be made;\r\n",
            "And so my lordship says a credit shall be such\r\n",
            "As moved to take my action, wonder well profare dective a hus ready might all but lift post instrument:\r\n",
            "I am not Julius' heart, poor sons, lamented for her,\r\n",
            "Or thine enemies you are lost another.\r\n",
            "\r\n",
            "ULYSSES:\r\n",
            "Thou toldst how now, kneel when I have, and mountain,\r\n",
            "Hear the great it detection and thy quarrel I have seen\r\n",
            "An elder suit of paragon.\r\n",
            "\r\n",
            "TROILUS:\r\n",
            "The gods I did.\r\n",
            "\r\n",
            "Officer:\r\n",
            "How now, volume, which made the first device out of a glass\r\n",
            "Of himself that the bloody treasure of the court,\r\n",
            "I see the faurter thee?\r\n",
            "\r\n",
            "Second Neris:\r\n",
            "Now, blessed France, and with thy speech can know?\r\n",
            "\r\n",
            "ANTIPHOLUS OF EPHESUS:\r\n",
            "A marriage, if I live,\r\n",
            "I'll come.\r\n",
            "\r\n",
            "Second Lord:\r\n",
            "\r\n",
            "GLOUCESTER:\r\n",
            "Ho\n"
          ]
        }
      ]
    }
  ]
}